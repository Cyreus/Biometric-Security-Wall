{
 "cells": [
  {
   "cell_type": "markdown",
   "id": "8a77807f92f26ee",
   "metadata": {},
   "source": [
    "# This is a sample Jupyter Notebook\n",
    "\n",
    "Below is an example of a code cell. \n",
    "Put your cursor into the cell and press Shift+Enter to execute it and select the next one, or click 'Run Cell' button.\n",
    "\n",
    "Press Double Shift to search everywhere for classes, files, tool windows, actions, and settings.\n",
    "\n",
    "To learn more about Jupyter Notebooks in PyCharm, see [help](https://www.jetbrains.com/help/pycharm/ipython-notebook-support.html).\n",
    "For an overview of PyCharm, go to Help -> Learn IDE features or refer to [our documentation](https://www.jetbrains.com/help/pycharm/getting-started.html)."
   ]
  },
  {
   "cell_type": "code",
   "execution_count": 1,
   "id": "fbc121e30a2defb3",
   "metadata": {
    "ExecuteTime": {
     "end_time": "2025-06-03T16:51:37.119921Z",
     "start_time": "2025-06-03T16:51:14.335472Z"
    }
   },
   "outputs": [],
   "source": [
    "import pandas as pd\n",
    "import librosa\n",
    "import numpy as np\n",
    "from sklearn.preprocessing import LabelEncoder, StandardScaler\n",
    "from tensorflow.keras.models import Sequential\n",
    "from tensorflow.keras.utils import to_categorical\n",
    "from tensorflow.keras.layers import Conv1D, MaxPooling1D, Flatten, Dense, Dropout, BatchNormalization, Input,GlobalAveragePooling1D\n",
    "from imblearn.over_sampling import RandomOverSampler\n",
    "from collections import Counter\n",
    "from tensorflow.keras.callbacks import EarlyStopping, ReduceLROnPlateau\n",
    "from tensorflow.keras.regularizers import l2\n",
    "from tensorflow.keras.models import load_model\n",
    "import joblib\n",
    "from sklearn.model_selection import StratifiedKFold\n",
    "from sklearn.ensemble import IsolationForest\n",
    "import matplotlib.pyplot as plt\n",
    "from sklearn.metrics import confusion_matrix, ConfusionMatrixDisplay\n"
   ]
  },
  {
   "cell_type": "code",
   "execution_count": 2,
   "id": "38ca68368099bf74",
   "metadata": {
    "ExecuteTime": {
     "end_time": "2025-06-03T16:51:45.309771Z",
     "start_time": "2025-06-03T16:51:42.591311Z"
    }
   },
   "outputs": [
    {
     "name": "stdout",
     "output_type": "stream",
     "text": [
      "1059\n",
      "1059\n",
      "1059\n",
      "84\n",
      "84\n"
     ]
    }
   ],
   "source": [
    "excel_path = 'data/database/dataBase.xlsx'  \n",
    "df = pd.read_excel(excel_path)\n",
    "\n",
    "file_paths = df['path'].tolist()\n",
    "id = df['id'].tolist()\n",
    "labels = df['person'].tolist()\n",
    "\n",
    "n = len(file_paths)  \n",
    "sample_size = n // 25\n",
    "\n",
    "file_paths_sample = file_paths[:sample_size]\n",
    "id_sample = id[:sample_size]\n",
    "labels_sample = labels[:sample_size]\n",
    "id_sample_unknown = id[sample_size + 27: 1170]\n",
    "unknown_file_paths = file_paths[sample_size + 27 :1170]\n",
    "unknown_labels = [\"unknown\"] * len(unknown_file_paths)\n",
    "\n",
    "print(len(file_paths_sample))  \n",
    "print(len(id_sample))\n",
    "print(len(labels_sample))\n",
    "print(len(unknown_file_paths))\n",
    "print(len(unknown_labels))"
   ]
  },
  {
   "cell_type": "code",
   "execution_count": 3,
   "id": "3cfa812b1401549a",
   "metadata": {
    "ExecuteTime": {
     "end_time": "2025-06-03T16:51:47.075826Z",
     "start_time": "2025-06-03T16:51:47.055902Z"
    }
   },
   "outputs": [
    {
     "name": "stdout",
     "output_type": "stream",
     "text": [
      "['TVYM', 'TPBL', 'XRJO', 'NUID', 'UQEN', 'DMLN', 'IRVN', 'IQMH', 'IZDT', 'HBXT', 'YQXI', 'EMCL', 'UXOD']\n",
      "['UXOD', 'UXOD', 'UXOD', 'UXOD', 'UXOD', 'UXOD', 'UXOD', 'UXOD', 'UXOD', 'UXOD', 'UXOD', 'UXOD', 'UXOD', 'UXOD', 'UXOD', 'UXOD', 'UXOD', 'UXOD', 'UXOD', 'UXOD', 'UXOD', 'UXOD', 'UXOD', 'UXOD', 'UXOD', 'UXOD', 'UXOD', 'UXOD', 'UXOD', 'UXOD', 'UXOD', 'UXOD', 'UXOD', 'UXOD', 'UXOD', 'UXOD', 'UXOD', 'UXOD', 'UXOD', 'UXOD', 'UXOD', 'UXOD', 'UXOD', 'UXOD', 'UXOD', 'UXOD', 'UXOD', 'UXOD', 'UXOD', 'UXOD', 'UXOD', 'UXOD', 'UXOD', 'UXOD', 'UXOD', 'UXOD', 'UXOD', 'UXOD', 'UXOD', 'UXOD', 'UXOD', 'UXOD', 'UXOD', 'UXOD', 'UXOD', 'UXOD', 'UXOD', 'UXOD', 'UXOD', 'UXOD', 'UXOD', 'UXOD', 'UXOD', 'UXOD', 'UXOD', 'UXOD', 'UXOD', 'UXOD', 'UXOD', 'UXOD', 'UXOD', 'UXOD', 'UXOD', 'UXOD', 'UXOD', 'UXOD', 'UXOD', 'UXOD', 'UXOD', 'UXOD', 'UXOD', 'UXOD', 'UXOD', 'UXOD', 'UXOD', 'UXOD', 'UXOD', 'UXOD', 'UXOD', 'UXOD', 'UXOD', 'UXOD', 'UXOD', 'UXOD', 'UXOD', 'UXOD', 'UXOD', 'UXOD', 'UXOD', 'UXOD', 'UXOD', 'UXOD', 'UXOD', 'UXOD', 'UXOD', 'UXOD', 'HBXT', 'HBXT', 'HBXT', 'HBXT', 'HBXT', 'HBXT', 'NUID', 'NUID', 'NUID', 'NUID', 'NUID', 'NUID', 'NUID', 'NUID', 'NUID', 'NUID', 'NUID', 'NUID', 'NUID', 'NUID', 'NUID', 'NUID', 'NUID', 'NUID', 'NUID', 'NUID', 'NUID', 'NUID', 'NUID', 'NUID', 'NUID', 'NUID', 'NUID', 'NUID', 'NUID', 'NUID', 'NUID', 'NUID', 'NUID', 'NUID', 'NUID', 'NUID', 'NUID', 'NUID', 'NUID', 'NUID', 'NUID', 'NUID', 'NUID', 'NUID', 'NUID', 'NUID', 'NUID', 'NUID', 'NUID', 'NUID', 'NUID', 'NUID', 'NUID', 'NUID', 'NUID', 'NUID', 'NUID', 'NUID', 'NUID', 'NUID', 'NUID', 'NUID', 'NUID', 'NUID', 'NUID', 'NUID', 'NUID', 'NUID', 'NUID', 'NUID', 'NUID', 'NUID', 'NUID', 'NUID', 'NUID', 'NUID', 'NUID', 'NUID', 'NUID', 'NUID', 'NUID', 'NUID', 'NUID', 'NUID', 'NUID', 'NUID', 'NUID', 'NUID', 'NUID', 'NUID', 'NUID', 'NUID', 'NUID', 'NUID', 'NUID', 'NUID', 'NUID', 'IQMH', 'IQMH', 'IQMH', 'IQMH', 'IQMH', 'IQMH', 'IQMH', 'IQMH', 'IQMH', 'IQMH', 'IQMH', 'IQMH', 'IQMH', 'IQMH', 'IQMH', 'IQMH', 'IQMH', 'IQMH', 'IQMH', 'IQMH', 'IQMH', 'IQMH', 'IRVN', 'IRVN', 'IRVN', 'IRVN', 'IRVN', 'IRVN', 'IRVN', 'IRVN', 'IRVN', 'IRVN', 'IRVN', 'IRVN', 'IRVN', 'IRVN', 'IRVN', 'IRVN', 'IRVN', 'IRVN', 'IRVN', 'IRVN', 'IRVN', 'IRVN', 'IRVN', 'IRVN', 'IRVN', 'IRVN', 'IRVN', 'IRVN', 'IRVN', 'IRVN', 'IRVN', 'IRVN', 'IRVN', 'IRVN', 'IRVN', 'IRVN', 'IRVN', 'IRVN', 'IRVN', 'IRVN', 'IRVN', 'IRVN', 'IRVN', 'IRVN', 'IRVN', 'IRVN', 'IRVN', 'IRVN', 'IRVN', 'IRVN', 'IRVN', 'IRVN', 'IRVN', 'IRVN', 'IRVN', 'IRVN', 'IRVN', 'IRVN', 'IRVN', 'IRVN', 'IRVN', 'IRVN', 'IRVN', 'IRVN', 'IRVN', 'IRVN', 'IRVN', 'IRVN', 'IRVN', 'IRVN', 'IRVN', 'IRVN', 'IRVN', 'IRVN', 'IRVN', 'IRVN', 'IRVN', 'IRVN', 'IRVN', 'IRVN', 'IRVN', 'IRVN', 'IRVN', 'IRVN', 'IRVN', 'IRVN', 'IRVN', 'IRVN', 'IRVN', 'IRVN', 'IRVN', 'IRVN', 'IRVN', 'IRVN', 'IRVN', 'IRVN', 'IRVN', 'TVYM', 'TVYM', 'TVYM', 'TVYM', 'TVYM', 'TVYM', 'TVYM', 'TVYM', 'TVYM', 'TVYM', 'TVYM', 'TVYM', 'TVYM', 'TVYM', 'YQXI', 'YQXI', 'YQXI', 'YQXI', 'YQXI', 'YQXI', 'YQXI', 'YQXI', 'YQXI', 'YQXI', 'YQXI', 'YQXI', 'YQXI', 'YQXI', 'YQXI', 'YQXI', 'YQXI', 'YQXI', 'YQXI', 'YQXI', 'YQXI', 'YQXI', 'YQXI', 'YQXI', 'YQXI', 'YQXI', 'YQXI', 'YQXI', 'YQXI', 'YQXI', 'YQXI', 'YQXI', 'YQXI', 'YQXI', 'YQXI', 'YQXI', 'YQXI', 'YQXI', 'YQXI', 'YQXI', 'YQXI', 'YQXI', 'YQXI', 'YQXI', 'YQXI', 'YQXI', 'YQXI', 'YQXI', 'YQXI', 'YQXI', 'YQXI', 'YQXI', 'YQXI', 'YQXI', 'YQXI', 'YQXI', 'YQXI', 'YQXI', 'YQXI', 'YQXI', 'YQXI', 'YQXI', 'YQXI', 'YQXI', 'YQXI', 'YQXI', 'YQXI', 'YQXI', 'YQXI', 'YQXI', 'YQXI', 'YQXI', 'YQXI', 'YQXI', 'YQXI', 'YQXI', 'YQXI', 'YQXI', 'YQXI', 'YQXI', 'YQXI', 'YQXI', 'YQXI', 'YQXI', 'YQXI', 'YQXI', 'YQXI', 'YQXI', 'YQXI', 'YQXI', 'YQXI', 'YQXI', 'YQXI', 'YQXI', 'YQXI', 'YQXI', 'YQXI', 'YQXI', 'YQXI', 'YQXI', 'YQXI', 'YQXI', 'YQXI', 'YQXI', 'YQXI', 'YQXI', 'YQXI', 'YQXI', 'YQXI', 'YQXI', 'YQXI', 'YQXI', 'YQXI', 'YQXI', 'YQXI', 'YQXI', 'TPBL', 'TPBL', 'TPBL', 'TPBL', 'TPBL', 'TPBL', 'TPBL', 'TPBL', 'TPBL', 'TPBL', 'TPBL', 'TPBL', 'TPBL', 'TPBL', 'TPBL', 'TPBL', 'TPBL', 'TPBL', 'TPBL', 'TPBL', 'TPBL', 'TPBL', 'TPBL', 'TPBL', 'TPBL', 'TPBL', 'TPBL', 'TPBL', 'TPBL', 'TPBL', 'TPBL', 'TPBL', 'TPBL', 'TPBL', 'TPBL', 'TPBL', 'TPBL', 'TPBL', 'TPBL', 'TPBL', 'TPBL', 'TPBL', 'TPBL', 'TPBL', 'TPBL', 'TPBL', 'TPBL', 'TPBL', 'TPBL', 'TPBL', 'TPBL', 'TPBL', 'TPBL', 'TPBL', 'TPBL', 'TPBL', 'TPBL', 'TPBL', 'TPBL', 'TPBL', 'TPBL', 'TPBL', 'TPBL', 'TPBL', 'TPBL', 'TPBL', 'TPBL', 'TPBL', 'TPBL', 'TPBL', 'TPBL', 'TPBL', 'TPBL', 'TPBL', 'TPBL', 'TPBL', 'TPBL', 'TPBL', 'TPBL', 'TPBL', 'TPBL', 'TPBL', 'TPBL', 'TPBL', 'TPBL', 'TPBL', 'TPBL', 'TPBL', 'TPBL', 'TPBL', 'TPBL', 'TPBL', 'TPBL', 'TPBL', 'TPBL', 'TPBL', 'TPBL', 'TPBL', 'TPBL', 'TPBL', 'TPBL', 'TPBL', 'TPBL', 'TPBL', 'TPBL', 'TPBL', 'TPBL', 'TPBL', 'TPBL', 'TPBL', 'TPBL', 'TPBL', 'TPBL', 'TPBL', 'TPBL', 'TPBL', 'TPBL', 'TPBL', 'TPBL', 'TPBL', 'TPBL', 'TPBL', 'TPBL', 'TPBL', 'TPBL', 'TPBL', 'EMCL', 'EMCL', 'EMCL', 'EMCL', 'EMCL', 'EMCL', 'EMCL', 'EMCL', 'EMCL', 'EMCL', 'EMCL', 'EMCL', 'EMCL', 'EMCL', 'EMCL', 'EMCL', 'EMCL', 'EMCL', 'EMCL', 'EMCL', 'EMCL', 'EMCL', 'EMCL', 'EMCL', 'EMCL', 'EMCL', 'EMCL', 'EMCL', 'EMCL', 'EMCL', 'EMCL', 'EMCL', 'EMCL', 'EMCL', 'EMCL', 'EMCL', 'EMCL', 'EMCL', 'EMCL', 'EMCL', 'EMCL', 'EMCL', 'EMCL', 'EMCL', 'EMCL', 'EMCL', 'EMCL', 'EMCL', 'EMCL', 'EMCL', 'EMCL', 'EMCL', 'EMCL', 'EMCL', 'EMCL', 'EMCL', 'EMCL', 'EMCL', 'EMCL', 'EMCL', 'EMCL', 'EMCL', 'EMCL', 'EMCL', 'EMCL', 'EMCL', 'EMCL', 'EMCL', 'EMCL', 'EMCL', 'EMCL', 'EMCL', 'EMCL', 'EMCL', 'EMCL', 'EMCL', 'EMCL', 'EMCL', 'EMCL', 'EMCL', 'EMCL', 'EMCL', 'EMCL', 'EMCL', 'EMCL', 'EMCL', 'EMCL', 'EMCL', 'EMCL', 'EMCL', 'EMCL', 'EMCL', 'EMCL', 'EMCL', 'EMCL', 'EMCL', 'EMCL', 'EMCL', 'EMCL', 'EMCL', 'EMCL', 'EMCL', 'EMCL', 'EMCL', 'EMCL', 'EMCL', 'EMCL', 'EMCL', 'EMCL', 'EMCL', 'EMCL', 'EMCL', 'EMCL', 'EMCL', 'EMCL', 'EMCL', 'EMCL', 'EMCL', 'EMCL', 'EMCL', 'EMCL', 'EMCL', 'EMCL', 'EMCL', 'EMCL', 'DMLN', 'DMLN', 'DMLN', 'DMLN', 'DMLN', 'DMLN', 'DMLN', 'DMLN', 'DMLN', 'DMLN', 'DMLN', 'DMLN', 'DMLN', 'DMLN', 'DMLN', 'DMLN', 'DMLN', 'DMLN', 'DMLN', 'DMLN', 'DMLN', 'DMLN', 'DMLN', 'DMLN', 'DMLN', 'DMLN', 'DMLN', 'DMLN', 'DMLN', 'DMLN', 'DMLN', 'DMLN', 'DMLN', 'DMLN', 'DMLN', 'DMLN', 'DMLN', 'DMLN', 'DMLN', 'DMLN', 'DMLN', 'DMLN', 'DMLN', 'DMLN', 'DMLN', 'DMLN', 'DMLN', 'DMLN', 'DMLN', 'DMLN', 'DMLN', 'DMLN', 'DMLN', 'DMLN', 'DMLN', 'DMLN', 'DMLN', 'DMLN', 'DMLN', 'DMLN', 'DMLN', 'DMLN', 'DMLN', 'DMLN', 'DMLN', 'DMLN', 'DMLN', 'DMLN', 'DMLN', 'DMLN', 'DMLN', 'DMLN', 'DMLN', 'DMLN', 'DMLN', 'DMLN', 'DMLN', 'DMLN', 'DMLN', 'DMLN', 'DMLN', 'DMLN', 'DMLN', 'DMLN', 'DMLN', 'DMLN', 'DMLN', 'DMLN', 'DMLN', 'DMLN', 'DMLN', 'DMLN', 'DMLN', 'DMLN', 'DMLN', 'DMLN', 'DMLN', 'UQEN', 'UQEN', 'UQEN', 'UQEN', 'UQEN', 'UQEN', 'UQEN', 'UQEN', 'UQEN', 'UQEN', 'UQEN', 'UQEN', 'UQEN', 'UQEN', 'UQEN', 'UQEN', 'UQEN', 'UQEN', 'UQEN', 'UQEN', 'UQEN', 'UQEN', 'UQEN', 'UQEN', 'UQEN', 'UQEN', 'UQEN', 'UQEN', 'UQEN', 'UQEN', 'UQEN', 'UQEN', 'UQEN', 'UQEN', 'UQEN', 'UQEN', 'UQEN', 'UQEN', 'UQEN', 'UQEN', 'UQEN', 'UQEN', 'UQEN', 'UQEN', 'UQEN', 'UQEN', 'UQEN', 'UQEN', 'UQEN', 'UQEN', 'UQEN', 'UQEN', 'UQEN', 'UQEN', 'UQEN', 'UQEN', 'UQEN', 'UQEN', 'UQEN', 'UQEN', 'UQEN', 'UQEN', 'UQEN', 'UQEN', 'UQEN', 'UQEN', 'UQEN', 'UQEN', 'UQEN', 'UQEN', 'UQEN', 'UQEN', 'UQEN', 'UQEN', 'UQEN', 'UQEN', 'UQEN', 'UQEN', 'UQEN', 'UQEN', 'UQEN', 'UQEN', 'UQEN', 'UQEN', 'UQEN', 'UQEN', 'UQEN', 'UQEN', 'UQEN', 'UQEN', 'UQEN', 'UQEN', 'UQEN', 'UQEN', 'UQEN', 'UQEN', 'UQEN', 'UQEN', 'UQEN', 'UQEN', 'UQEN', 'UQEN', 'UQEN', 'UQEN', 'UQEN', 'UQEN', 'UQEN', 'UQEN', 'UQEN', 'UQEN', 'UQEN', 'UQEN', 'UQEN', 'UQEN', 'UQEN', 'UQEN', 'UQEN', 'UQEN', 'UQEN', 'UQEN', 'UQEN', 'UQEN', 'UQEN', 'UQEN', 'UQEN', 'UQEN', 'IZDT', 'IZDT', 'IZDT', 'IZDT', 'IZDT', 'IZDT', 'IZDT', 'IZDT', 'IZDT', 'IZDT', 'IZDT', 'IZDT', 'IZDT', 'IZDT', 'IZDT', 'IZDT', 'IZDT', 'IZDT', 'IZDT', 'IZDT', 'IZDT', 'IZDT', 'IZDT', 'IZDT', 'IZDT', 'IZDT', 'IZDT', 'IZDT', 'XRJO', 'XRJO', 'XRJO', 'XRJO', 'XRJO', 'XRJO', 'XRJO', 'XRJO', 'XRJO', 'XRJO', 'XRJO', 'XRJO', 'XRJO', 'XRJO', 'XRJO', 'XRJO', 'XRJO', 'XRJO', 'XRJO', 'XRJO', 'XRJO', 'XRJO', 'XRJO', 'XRJO', 'XRJO', 'XRJO', 'XRJO', 'XRJO', 'XRJO', 'XRJO', 'XRJO', 'XRJO', 'XRJO', 'XRJO', 'XRJO', 'XRJO', 'XRJO', 'XRJO', 'XRJO', 'XRJO', 'XRJO', 'XRJO', 'XRJO', 'XRJO', 'XRJO', 'XRJO', 'XRJO', 'XRJO', 'XRJO', 'XRJO', 'XRJO', 'XRJO', 'XRJO', 'XRJO', 'XRJO', 'XRJO', 'XRJO', 'XRJO', 'XRJO', 'XRJO', 'XRJO', 'XRJO', 'XRJO', 'XRJO', 'XRJO', 'XRJO', 'XRJO', 'XRJO', 'XRJO', 'XRJO', 'XRJO', 'XRJO', 'XRJO', 'XRJO', 'XRJO', 'XRJO', 'XRJO', 'XRJO', 'XRJO', 'XRJO', 'XRJO', 'XRJO', 'XRJO', 'XRJO', 'XRJO', 'XRJO', 'XRJO', 'XRJO', 'XRJO']\n"
     ]
    },
    {
     "data": {
      "text/plain": [
       "13"
      ]
     },
     "execution_count": 3,
     "metadata": {},
     "output_type": "execute_result"
    }
   ],
   "source": [
    "unique_labels = list(set(labels_sample))\n",
    "print(unique_labels)\n",
    "len(unique_labels)\n",
    "print(labels_sample)\n",
    "len(unique_labels)"
   ]
  },
  {
   "cell_type": "code",
   "execution_count": 4,
   "id": "a7c2c5b6b20e9c89",
   "metadata": {
    "ExecuteTime": {
     "end_time": "2025-06-03T16:51:48.921654Z",
     "start_time": "2025-06-03T16:51:48.914177Z"
    }
   },
   "outputs": [
    {
     "name": "stdout",
     "output_type": "stream",
     "text": [
      "['data/test/3 (1).wav', 'data/test/4.wav', 'data/test/5.wav', 'data/test/6.wav', 'data/test/7.wav', 'data/test/8.wav', 'data/test/9.wav', 'data/test/10.wav', 'data/test/11.wav', 'data/test/12.wav', 'data/test/13.wav', 'data/test/14.wav', 'data/test/15.wav', 'data/test/16.wav', 'data/test/17.wav', 'data/test/18.wav', 'data/test/19.wav', 'data/test/20.wav', 'data/test/21.wav', 'data/test/22.wav', 'data/test/23.wav', 'data/test/24.wav', 'data/test/25.wav', 'data/test/26.wav', 'data/test/27.wav', 'data/test/28.wav', 'data/test/29.wav', 'data/test/30.wav', 'data/test/31.wav', 'data/test/32.wav', 'data/test/33.wav', 'data/test/34.wav', 'data/test/35.wav', 'data/test/36.wav', 'data/test/37.wav', 'data/test/38.wav', 'data/test/39.wav', 'data/test/40.wav', 'data/test/41.wav', 'data/test/42.wav', 'data/test/43.wav', 'data/test/44.wav', 'data/test/45.wav', 'data/test/46.wav', 'data/test/47.wav', 'data/test/48.wav', 'data/test/49.wav', 'data/test/50.wav', 'data/test/51.wav', 'data/test/52.wav', 'data/test/53.wav', 'data/test/54.wav', 'data/test/55.wav', 'data/test/56.wav', 'data/test/57.wav', 'data/test/58.wav', 'data/test/59.wav', 'data/test/60.wav', 'data/test/61.wav', 'data/test/62.wav', 'data/test/63.wav', 'data/test/64.wav', 'data/test/65.wav', 'data/test/66.wav', 'data/test/67.wav', 'data/test/68.wav', 'data/test/69.wav', 'data/test/70.wav', 'data/test/71.wav', 'data/test/72.wav', 'data/test/73.wav', 'data/test/74.wav', 'data/test/75.wav', 'data/test/76.wav', 'data/test/77.wav', 'data/test/78.wav', 'data/test/79.wav', 'data/test/80.wav', 'data/test/81.wav', 'data/test/82.wav', 'data/test/83.wav', 'data/test/84.wav', 'data/test/85.wav', 'data/test/86.wav', 'data/test/87.wav', 'data/test/88.wav', 'data/test/89.wav', 'data/test/90.wav', 'data/test/91.wav']\n",
      "['unsounds/human_voice_1.wav', 'unsounds/human_voice_2.wav', 'unsounds/human_voice_3.wav', 'unsounds/human_voice_4.wav', 'unsounds/human_voice_5.wav', 'unsounds/human_voice_6.wav', 'unsounds/human_voice_7.wav', 'unsounds/human_voice_8.wav', 'unsounds/human_voice_9.wav', 'unsounds/human_voice_10.wav', 'unsounds/human_voice_11.wav', 'unsounds/human_voice_12.wav', 'unsounds/human_voice_13.wav', 'unsounds/human_voice_14.wav', 'unsounds/human_voice_15.wav', 'unsounds/human_voice_16.wav', 'unsounds/human_voice_17.wav', 'unsounds/human_voice_18.wav', 'unsounds/human_voice_19.wav', 'unsounds/human_voice_20.wav', 'unsounds/human_voice_21.wav', 'unsounds/human_voice_22.wav', 'unsounds/human_voice_23.wav', 'unsounds/human_voice_24.wav', 'unsounds/human_voice_25.wav', 'unsounds/human_voice_26.wav', 'unsounds/human_voice_27.wav', 'unsounds/human_voice_28.wav', 'unsounds/human_voice_29.wav', 'unsounds/human_voice_30.wav', 'unsounds/human_voice_31.wav', 'unsounds/human_voice_32.wav', 'unsounds/human_voice_33.wav', 'unsounds/human_voice_34.wav', 'unsounds/human_voice_35.wav', 'unsounds/human_voice_36.wav', 'unsounds/human_voice_37.wav', 'unsounds/human_voice_38.wav', 'unsounds/human_voice_39.wav', 'unsounds/human_voice_40.wav', 'unsounds/human_voice_41.wav', 'unsounds/human_voice_42.wav', 'unsounds/human_voice_43.wav', 'unsounds/human_voice_44.wav', 'unsounds/human_voice_45.wav', 'unsounds/human_voice_46.wav', 'unsounds/human_voice_47.wav', 'unsounds/human_voice_48.wav', 'unsounds/human_voice_49.wav', 'unsounds/human_voice_50.wav', 'unsounds/human_voice_51.wav', 'unsounds/human_voice_52.wav', 'unsounds/human_voice_53.wav', 'unsounds/human_voice_54.wav', 'unsounds/human_voice_55.wav', 'unsounds/human_voice_56.wav', 'unsounds/human_voice_57.wav', 'unsounds/human_voice_58.wav', 'unsounds/human_voice_59.wav', 'unsounds/human_voice_60.wav', 'unsounds/human_voice_61.wav', 'unsounds/human_voice_62.wav', 'unsounds/human_voice_63.wav', 'unsounds/human_voice_64.wav', 'unsounds/human_voice_65.wav', 'unsounds/human_voice_66.wav', 'unsounds/human_voice_67.wav', 'unsounds/human_voice_68.wav', 'unsounds/human_voice_69.wav', 'unsounds/human_voice_70.wav', 'unsounds/human_voice_71.wav', 'unsounds/human_voice_72.wav', 'unsounds/human_voice_73.wav', 'unsounds/human_voice_74.wav', 'unsounds/human_voice_75.wav', 'unsounds/human_voice_76.wav', 'unsounds/human_voice_77.wav', 'unsounds/human_voice_78.wav', 'unsounds/human_voice_79.wav', 'unsounds/human_voice_80.wav', 'unsounds/human_voice_81.wav', 'unsounds/human_voice_82.wav', 'unsounds/human_voice_83.wav', 'unsounds/human_voice_84.wav', 'unsounds/human_voice_85.wav', 'unsounds/human_voice_86.wav', 'unsounds/human_voice_87.wav', 'unsounds/human_voice_88.wav', 'unsounds/human_voice_89.wav', 'unsounds/human_voice_90.wav', 'unsounds/human_voice_91.wav', 'unsounds/human_voice_92.wav', 'unsounds/human_voice_93.wav', 'unsounds/human_voice_94.wav', 'unsounds/human_voice_95.wav', 'unsounds/human_voice_96.wav', 'unsounds/human_voice_97.wav', 'unsounds/human_voice_98.wav', 'unsounds/human_voice_99.wav', 'unsounds/human_voice_100.wav']\n"
     ]
    }
   ],
   "source": [
    "paths = []\n",
    "\n",
    "paths.append(\"data/test/3 (1).wav\")  \n",
    "for i in range(4, 92):  \n",
    "    paths.append(f\"data/test/{i}.wav\")\n",
    "\n",
    "print(paths)\n",
    "\n",
    "paths_unknown_human_voices = []\n",
    "\n",
    "for i in range(1, 101):  \n",
    "    paths_unknown_human_voices.append(f\"unsounds/human_voice_{i}.wav\")\n",
    "\n",
    "print(paths_unknown_human_voices)\n"
   ]
  },
  {
   "cell_type": "code",
   "execution_count": 5,
   "id": "254f0d5468089533",
   "metadata": {
    "ExecuteTime": {
     "end_time": "2025-06-03T16:51:51.027795Z",
     "start_time": "2025-06-03T16:51:51.007791Z"
    }
   },
   "outputs": [
    {
     "name": "stdout",
     "output_type": "stream",
     "text": [
      "Counter({'UXOD': 184, 'HBXT': 184, 'NUID': 184, 'IQMH': 184, 'IRVN': 184, 'TVYM': 184, 'YQXI': 184, 'TPBL': 184, 'EMCL': 184, 'DMLN': 184, 'UQEN': 184, 'IZDT': 184, 'XRJO': 184, 'ali': 184, 'unknown': 184})\n",
      "['data/database/ac/ac_UXOD_BTMEAPU.wav', 'data/database/ac/ac_UXOD_YJTEPUH.wav', 'data/database/ac/ac_UXOD_CKTQBAP.wav', 'data/database/ac/ac_UXOD_YCJKIMB.wav', 'data/database/ac/ac_UXOD_YJKRCPO.wav', 'data/database/ac/ac_UXOD_HJKNTRU.wav', 'data/database/ac/ac_UXOD_XYGONEW.wav', 'data/database/ac/ac_UXOD_HRWYZVK.wav', 'data/database/ac/ac_UXOD_AQNLZBD.wav', 'data/database/asagi/asagi_UXOD_OQFUBAC.wav', 'data/database/asagi/asagi_UXOD_GSYOHNZ.wav', 'data/database/asagi/asagi_UXOD_QIUOVND.wav', 'data/database/asagi/asagi_UXOD_NZSJFUC.wav', 'data/database/asagi/asagi_UXOD_ZPKXAQE.wav', 'data/database/asagi/asagi_UXOD_CLDMVRG.wav', 'data/database/asagi/asagi_UXOD_GLZBNDK.wav', 'data/database/baslat/baslat_UXOD_IRSGZHU.wav', 'data/database/baslat/baslat_UXOD_VBLCNGQ.wav', 'data/database/baslat/baslat_UXOD_EFPLBHK.wav', 'data/database/baslat/baslat_UXOD_DKVGXQC.wav', 'data/database/baslat/baslat_UXOD_VUQZDME.wav', 'data/database/baslat/baslat_UXOD_PDGLRSK.wav', 'data/database/baslat/baslat_UXOD_VIFGMCT.wav', 'data/database/baslat/baslat_UXOD_TXCBDUO.wav', 'data/database/devam/devam_UXOD_VHODMCX.wav', 'data/database/devam/devam_UXOD_DRCWFIP.wav', 'data/database/devam/devam_UXOD_BDSYFOH.wav', 'data/database/devam/devam_UXOD_OVFNAMH.wav', 'data/database/devam/devam_UXOD_KJAQFSY.wav', 'data/database/devam/devam_UXOD_NAETPRJ.wav', 'data/database/devam/devam_UXOD_KEXHZSJ.wav', 'data/database/devam/devam_UXOD_MZBSYRK.wav', 'data/database/dur/dur_UXOD_ICMXESG.wav', 'data/database/dur/dur_UXOD_OHCGMDF.wav', 'data/database/dur/dur_UXOD_FWCXPUD.wav', 'data/database/dur/dur_UXOD_NLVQBPM.wav', 'data/database/dur/dur_UXOD_IJUMOCW.wav', 'data/database/dur/dur_UXOD_KMBRDET.wav', 'data/database/dur/dur_UXOD_DEIYGCV.wav', 'data/database/dur/dur_UXOD_AWPURNX.wav', 'data/database/evet/evet_UXOD_XYFPWEO.wav', 'data/database/evet/evet_UXOD_VJIBQUL.wav', 'data/database/evet/evet_UXOD_SATKQCN.wav', 'data/database/evet/evet_UXOD_IAZVSFC.wav', 'data/database/evet/evet_UXOD_UWAFHBK.wav', 'data/database/evet/evet_UXOD_NATYJXD.wav', 'data/database/evet/evet_UXOD_JAIKNHL.wav', 'data/database/evet/evet_UXOD_LUSFQOM.wav', 'data/database/geri/geri_UXOD_ZNTYFOS.wav', 'data/database/geri/geri_UXOD_NHSMAEP.wav', 'data/database/geri/geri_UXOD_QBUGETW.wav', 'data/database/geri/geri_UXOD_ZENVYMT.wav', 'data/database/geri/geri_UXOD_ZVIXQFA.wav', 'data/database/geri/geri_UXOD_PWYFOVA.wav', 'data/database/geri/geri_UXOD_CDTGEWB.wav', 'data/database/geri/geri_UXOD_PRUHQGE.wav', 'data/database/hayir/hayir_UXOD_VJSIZRL.wav', 'data/database/hayir/hayir_UXOD_LEYVUQJ.wav', 'data/database/hayir/hayir_UXOD_OETPSZW.wav', 'data/database/hayir/hayir_UXOD_RIMAYWJ.wav', 'data/database/hayir/hayir_UXOD_USXVCJW.wav', 'data/database/hayir/hayir_UXOD_CPEIFYX.wav', 'data/database/hayir/hayir_UXOD_YZSJNXK.wav', 'data/database/hayir/hayir_UXOD_QHIJYZB.wav', 'data/database/hayir/hayir_UXOD_MWJXFPN.wav', 'data/database/ileri/ileri_UXOD_OLWIYKU.wav', 'data/database/ileri/ileri_UXOD_HFAKQDO.wav', 'data/database/ileri/ileri_UXOD_PMTFYXV.wav', 'data/database/ileri/ileri_UXOD_XCSJIHT.wav', 'data/database/ileri/ileri_UXOD_DYJHUOA.wav', 'data/database/ileri/ileri_UXOD_OHLMRSZ.wav', 'data/database/ileri/ileri_UXOD_FSJPXKV.wav', 'data/database/ileri/ileri_UXOD_XCSIHDP.wav', 'data/database/iptal/iptal_UXOD_HWVLUXR.wav', 'data/database/iptal/iptal_UXOD_MRODPZC.wav', 'data/database/iptal/iptal_UXOD_FKVYXTN.wav', 'data/database/iptal/iptal_UXOD_OGEDQCH.wav', 'data/database/iptal/iptal_UXOD_AWNYCBT.wav', 'data/database/iptal/iptal_UXOD_LCIDJNB.wav', 'data/database/iptal/iptal_UXOD_ZJMTNWR.wav', 'data/database/iptal/iptal_UXOD_LKWVENP.wav', 'data/database/iptal/iptal_UXOD_TXGQSNY.wav', 'data/database/kapa/kapa_UXOD_HPAQTIW.wav', 'data/database/kapa/kapa_UXOD_QZPOIJL.wav', 'data/database/kapa/kapa_UXOD_IJEDGRV.wav', 'data/database/kapa/kapa_UXOD_RZHFYXP.wav', 'data/database/kapa/kapa_UXOD_KGYOQBW.wav', 'data/database/kapa/kapa_UXOD_KSBIODH.wav', 'data/database/kapa/kapa_UXOD_OISPAGQ.wav', 'data/database/kapa/kapa_UXOD_JZECQHK.wav', 'data/database/sag/sag_UXOD_JYNQVTZ.wav', 'data/database/sag/sag_UXOD_GRBQNDX.wav', 'data/database/sag/sag_UXOD_QUXDNEW.wav', 'data/database/sag/sag_UXOD_SPHBXRQ.wav', 'data/database/sag/sag_UXOD_UPLMIXO.wav', 'data/database/sag/sag_UXOD_ULXNBTA.wav', 'data/database/sag/sag_UXOD_OYJMLTU.wav', 'data/database/sag/sag_UXOD_NRATBPS.wav', 'data/database/sol/sol_UXOD_SBULGCP.wav', 'data/database/sol/sol_UXOD_UXQCPIK.wav', 'data/database/sol/sol_UXOD_ZKJPAWM.wav', 'data/database/sol/sol_UXOD_WLUBFCJ.wav', 'data/database/sol/sol_UXOD_NAZQDJS.wav', 'data/database/sol/sol_UXOD_TNUXJHZ.wav', 'data/database/sol/sol_UXOD_XYDQWRE.wav', 'data/database/sol/sol_UXOD_XGMTSEH.wav', 'data/database/sol/sol_UXOD_IWPZNFC.wav', 'data/database/yukari/yukari_UXOD_SIMKRVE.wav', 'data/database/yukari/yukari_UXOD_YCTKBZG.wav', 'data/database/yukari/yukari_UXOD_NUIPATS.wav', 'data/database/yukari/yukari_UXOD_RKBTDOF.wav', 'data/database/yukari/yukari_UXOD_ZMBYPJN.wav', 'data/database/yukari/yukari_UXOD_HXUVWKS.wav', 'data/database/yukari/yukari_UXOD_WFIDSKM.wav', 'data/database/yukari/yukari_UXOD_CFRWPKB.wav', 'data/database/yukari/yukari_UXOD_JUMIAEO.wav', 'data/database/ac/ac_HBXT_SHZXTVJ.wav', 'data/database/evet/evet_HBXT_OXRIFQB.wav', 'data/database/hayir/hayir_HBXT_ZYTGUIX.wav', 'data/database/iptal/iptal_HBXT_VETZDRK.wav', 'data/database/sag/sag_HBXT_RCLQSEK.wav', 'data/database/yukari/yukari_HBXT_CJAMEFG.wav', 'data/database/ac/ac_NUID_FQEHNMG.wav', 'data/database/ac/ac_NUID_WXUYCNO.wav', 'data/database/ac/ac_NUID_ZWPFITN.wav', 'data/database/ac/ac_NUID_MCGEWKU.wav', 'data/database/ac/ac_NUID_APYHZMI.wav', 'data/database/ac/ac_NUID_ASQIMYB.wav', 'data/database/ac/ac_NUID_TLGYNXV.wav', 'data/database/asagi/asagi_NUID_JSZWDQA.wav', 'data/database/asagi/asagi_NUID_UKNXTZG.wav', 'data/database/asagi/asagi_NUID_UFSEZCI.wav', 'data/database/asagi/asagi_NUID_VJCWAYI.wav', 'data/database/asagi/asagi_NUID_CUKLZFB.wav', 'data/database/asagi/asagi_NUID_NOXVBHD.wav', 'data/database/asagi/asagi_NUID_SQYCUAV.wav', 'data/database/baslat/baslat_NUID_QUPDMBK.wav', 'data/database/baslat/baslat_NUID_THQYSGP.wav', 'data/database/baslat/baslat_NUID_NDUXBTL.wav', 'data/database/baslat/baslat_NUID_ZCQDBFT.wav', 'data/database/baslat/baslat_NUID_JZHAWUK.wav', 'data/database/baslat/baslat_NUID_XWSDOHA.wav', 'data/database/baslat/baslat_NUID_RZEPQIS.wav', 'data/database/devam/devam_NUID_EWNOHQZ.wav', 'data/database/devam/devam_NUID_PVFKYNU.wav', 'data/database/devam/devam_NUID_VKQPCRY.wav', 'data/database/devam/devam_NUID_ARXDQNV.wav', 'data/database/devam/devam_NUID_DTUFQRJ.wav', 'data/database/devam/devam_NUID_KTRNXJE.wav', 'data/database/devam/devam_NUID_RAJQCYD.wav', 'data/database/dur/dur_NUID_MROBHVF.wav', 'data/database/dur/dur_NUID_LJREVXU.wav', 'data/database/dur/dur_NUID_WMOZDEL.wav', 'data/database/dur/dur_NUID_RJCEHFN.wav', 'data/database/dur/dur_NUID_GQHRPDJ.wav', 'data/database/dur/dur_NUID_WZXDTRL.wav', 'data/database/dur/dur_NUID_YXPIVGT.wav', 'data/database/evet/evet_NUID_SBWLEZN.wav', 'data/database/evet/evet_NUID_BRXMIKV.wav', 'data/database/evet/evet_NUID_POKXUBJ.wav', 'data/database/evet/evet_NUID_UBGRKVM.wav', 'data/database/evet/evet_NUID_AZQYJKI.wav', 'data/database/geri/geri_NUID_HNCBESR.wav', 'data/database/geri/geri_NUID_DWSCGEY.wav', 'data/database/geri/geri_NUID_MCJAQOX.wav', 'data/database/geri/geri_NUID_OHIJTBQ.wav', 'data/database/geri/geri_NUID_NFWUPEL.wav', 'data/database/geri/geri_NUID_JQILEAX.wav', 'data/database/geri/geri_NUID_FSKOANJ.wav', 'data/database/hayir/hayir_NUID_EBJLZGN.wav', 'data/database/hayir/hayir_NUID_AEQCBIW.wav', 'data/database/hayir/hayir_NUID_SBLJPMH.wav', 'data/database/hayir/hayir_NUID_VUBCPJE.wav', 'data/database/hayir/hayir_NUID_PABZHDR.wav', 'data/database/hayir/hayir_NUID_QPKXHGF.wav', 'data/database/kapa/kapa_NUID_BGZLHKW.wav', 'data/database/kapa/kapa_NUID_ZMKTXSQ.wav', 'data/database/kapa/kapa_NUID_BTJUDSI.wav', 'data/database/kapa/kapa_NUID_GBHUEAZ.wav', 'data/database/kapa/kapa_NUID_HDSYTZE.wav', 'data/database/kapa/kapa_NUID_ZNMEYHG.wav', 'data/database/sag/sag_NUID_YVBLMPH.wav', 'data/database/sag/sag_NUID_XJFZIYT.wav', 'data/database/sag/sag_NUID_GVAOYFX.wav', 'data/database/sag/sag_NUID_WGHMADF.wav', 'data/database/sag/sag_NUID_YLGCFIO.wav', 'data/database/sol/sol_NUID_MEHLPWA.wav', 'data/database/sol/sol_NUID_OIEMUJT.wav', 'data/database/sol/sol_NUID_VBZPOWH.wav', 'data/database/sol/sol_NUID_YVDKJEP.wav', 'data/database/sol/sol_NUID_UEAXRPB.wav', 'data/database/sol/sol_NUID_CEGRJIT.wav', 'data/database/sol/sol_NUID_JQLFPON.wav', 'data/database/yukari/yukari_NUID_KEVWRQA.wav', 'data/database/yukari/yukari_NUID_AMBQFHV.wav', 'data/database/yukari/yukari_NUID_ZSPFIOA.wav', 'data/database/yukari/yukari_NUID_MCQGWVH.wav', 'data/database/yukari/yukari_NUID_JABOKSL.wav', 'data/database/yukari/yukari_NUID_LUVIPKR.wav', 'data/database/evet/evet_NUID_FCVXAGW.wav', 'data/database/evet/evet_NUID_WNGAICF.wav', 'data/database/ileri/ileri_NUID_BSFVRWE.wav', 'data/database/ileri/ileri_NUID_SAFIVEL.wav', 'data/database/ileri/ileri_NUID_WCPGAJK.wav', 'data/database/ileri/ileri_NUID_ZKLEVCB.wav', 'data/database/ileri/ileri_NUID_LXMABGD.wav', 'data/database/ileri/ileri_NUID_TSHKDPI.wav', 'data/database/ileri/ileri_NUID_DYSJIOK.wav', 'data/database/iptal/iptal_NUID_UPINMYR.wav', 'data/database/iptal/iptal_NUID_BGOETKV.wav', 'data/database/iptal/iptal_NUID_HIDLYOF.wav', 'data/database/iptal/iptal_NUID_RFOXETN.wav', 'data/database/iptal/iptal_NUID_VFXTQBE.wav', 'data/database/iptal/iptal_NUID_LBRMUTX.wav', 'data/database/iptal/iptal_NUID_GHIPYKM.wav', 'data/database/kapa/kapa_NUID_CSYJGWN.wav', 'data/database/sag/sag_NUID_FNDOBRP.wav', 'data/database/sag/sag_NUID_UOKRZIF.wav', 'data/database/yukari/yukari_NUID_JGTWVDY.wav', 'data/database/ac/ac_IQMH_UFGSXPA.wav', 'data/database/ac/ac_IQMH_QXKJYLE.wav', 'data/database/asagi/asagi_IQMH_GMYJXNK.wav', 'data/database/asagi/asagi_IQMH_SDJLXHA.wav', 'data/database/baslat/baslat_IQMH_ROGNXBQ.wav', 'data/database/baslat/baslat_IQMH_OGRLYVU.wav', 'data/database/devam/devam_IQMH_QNJYDTF.wav', 'data/database/dur/dur_IQMH_YOSTKQG.wav', 'data/database/evet/evet_IQMH_CAMWVXS.wav', 'data/database/evet/evet_IQMH_RCFVMKE.wav', 'data/database/geri/geri_IQMH_CUYBPRX.wav', 'data/database/geri/geri_IQMH_BUWYXQP.wav', 'data/database/hayir/hayir_IQMH_ELCFSON.wav', 'data/database/hayir/hayir_IQMH_ALVIBMK.wav', 'data/database/kapa/kapa_IQMH_UYZFTVQ.wav', 'data/database/sag/sag_IQMH_LGWNBYI.wav', 'data/database/sol/sol_IQMH_HAZRJPU.wav', 'data/database/sol/sol_IQMH_PNGCKOJ.wav', 'data/database/yukari/yukari_IQMH_XHLAPON.wav', 'data/database/ileri/ileri_IQMH_LKNPFWY.wav', 'data/database/iptal/iptal_IQMH_EDKUXZT.wav', 'data/database/iptal/iptal_IQMH_MEBFGLR.wav', 'data/database/ac/ac_IRVN_TXSCRBA.wav', 'data/database/ac/ac_IRVN_FQTJXGU.wav', 'data/database/ac/ac_IRVN_ESJMQKN.wav', 'data/database/ac/ac_IRVN_LAYHNQG.wav', 'data/database/ac/ac_IRVN_ZUIQHJC.wav', 'data/database/ac/ac_IRVN_YIQJUKE.wav', 'data/database/ac/ac_IRVN_GIWEZKF.wav', 'data/database/asagi/asagi_IRVN_XBHOQKA.wav', 'data/database/asagi/asagi_IRVN_LRZYWFX.wav', 'data/database/asagi/asagi_IRVN_YVWKAJN.wav', 'data/database/asagi/asagi_IRVN_VFZEYWK.wav', 'data/database/asagi/asagi_IRVN_XRZMVPH.wav', 'data/database/asagi/asagi_IRVN_PYMSZUV.wav', 'data/database/asagi/asagi_IRVN_JWVOFLE.wav', 'data/database/baslat/baslat_IRVN_CBFVWMI.wav', 'data/database/baslat/baslat_IRVN_CFZUKMV.wav', 'data/database/baslat/baslat_IRVN_FLKNXOH.wav', 'data/database/baslat/baslat_IRVN_LRZMPJU.wav', 'data/database/baslat/baslat_IRVN_VWEJLRA.wav', 'data/database/baslat/baslat_IRVN_JUHKGQF.wav', 'data/database/baslat/baslat_IRVN_UYNAOZS.wav', 'data/database/devam/devam_IRVN_OQEHANW.wav', 'data/database/devam/devam_IRVN_SMAIRKE.wav', 'data/database/devam/devam_IRVN_VZJSUIE.wav', 'data/database/devam/devam_IRVN_UJFNOLR.wav', 'data/database/devam/devam_IRVN_BEHAQZX.wav', 'data/database/devam/devam_IRVN_KFTWQBN.wav', 'data/database/devam/devam_IRVN_XEURNFP.wav', 'data/database/dur/dur_IRVN_AOQSBKG.wav', 'data/database/dur/dur_IRVN_LJUHXYK.wav', 'data/database/dur/dur_IRVN_MYAKQHJ.wav', 'data/database/dur/dur_IRVN_FPEIUSN.wav', 'data/database/dur/dur_IRVN_CGMZYVB.wav', 'data/database/dur/dur_IRVN_SADXMRW.wav', 'data/database/dur/dur_IRVN_IHOUFSD.wav', 'data/database/evet/evet_IRVN_RJKTDHY.wav', 'data/database/evet/evet_IRVN_UDSKTZF.wav', 'data/database/evet/evet_IRVN_BIYQVXM.wav', 'data/database/evet/evet_IRVN_VQYAMBZ.wav', 'data/database/evet/evet_IRVN_TNCYLXS.wav', 'data/database/geri/geri_IRVN_BZAGHLS.wav', 'data/database/geri/geri_IRVN_SCEANGL.wav', 'data/database/geri/geri_IRVN_DGCVHNJ.wav', 'data/database/geri/geri_IRVN_QNGWORB.wav', 'data/database/geri/geri_IRVN_ZASQEGC.wav', 'data/database/geri/geri_IRVN_FMJWRKG.wav', 'data/database/geri/geri_IRVN_CSYHRLZ.wav', 'data/database/hayir/hayir_IRVN_NVSHDUC.wav', 'data/database/hayir/hayir_IRVN_HLZPOCV.wav', 'data/database/hayir/hayir_IRVN_TIGAPEX.wav', 'data/database/hayir/hayir_IRVN_MUVEXPY.wav', 'data/database/hayir/hayir_IRVN_OGYRMDE.wav', 'data/database/hayir/hayir_IRVN_RAPHSMZ.wav', 'data/database/kapa/kapa_IRVN_MIGYAEL.wav', 'data/database/kapa/kapa_IRVN_WBMHVEU.wav', 'data/database/kapa/kapa_IRVN_DZKOFHW.wav', 'data/database/kapa/kapa_IRVN_DENVHMA.wav', 'data/database/kapa/kapa_IRVN_VTLWZSK.wav', 'data/database/kapa/kapa_IRVN_PYTUAKE.wav', 'data/database/sag/sag_IRVN_KZQRVJD.wav', 'data/database/sag/sag_IRVN_UYCLJFR.wav', 'data/database/sag/sag_IRVN_IEUDOAL.wav', 'data/database/sag/sag_IRVN_NFMLVHJ.wav', 'data/database/sag/sag_IRVN_PTXZOML.wav', 'data/database/sol/sol_IRVN_ZWTYGMU.wav', 'data/database/sol/sol_IRVN_JELZTWB.wav', 'data/database/sol/sol_IRVN_YTHIAUW.wav', 'data/database/sol/sol_IRVN_YJDOKEV.wav', 'data/database/sol/sol_IRVN_QUYZJWE.wav', 'data/database/sol/sol_IRVN_RFXVJMG.wav', 'data/database/sol/sol_IRVN_MEVLYZQ.wav', 'data/database/yukari/yukari_IRVN_ZPUXHJQ.wav', 'data/database/yukari/yukari_IRVN_PRQDOGT.wav', 'data/database/yukari/yukari_IRVN_YWXGLUV.wav', 'data/database/yukari/yukari_IRVN_LPYQSZI.wav', 'data/database/yukari/yukari_IRVN_LYOZBCW.wav', 'data/database/yukari/yukari_IRVN_FDACTZM.wav', 'data/database/evet/evet_IRVN_UCPXRST.wav', 'data/database/evet/evet_IRVN_XYOUKEP.wav', 'data/database/ileri/ileri_IRVN_EFXWNPU.wav', 'data/database/ileri/ileri_IRVN_TCOFUKP.wav', 'data/database/ileri/ileri_IRVN_ZGAMFXE.wav', 'data/database/ileri/ileri_IRVN_XNTAVIM.wav', 'data/database/ileri/ileri_IRVN_TQVEJSZ.wav', 'data/database/ileri/ileri_IRVN_QEMCALP.wav', 'data/database/ileri/ileri_IRVN_MLNYQTO.wav', 'data/database/iptal/iptal_IRVN_EOYJCPL.wav', 'data/database/iptal/iptal_IRVN_JTZFUXG.wav', 'data/database/iptal/iptal_IRVN_IYVKXFB.wav', 'data/database/iptal/iptal_IRVN_KVXZURM.wav', 'data/database/iptal/iptal_IRVN_JLHKWXU.wav', 'data/database/iptal/iptal_IRVN_OKVUADF.wav', 'data/database/iptal/iptal_IRVN_NLHYKUF.wav', 'data/database/kapa/kapa_IRVN_AVPNWHE.wav', 'data/database/sag/sag_IRVN_VAYHIBW.wav', 'data/database/sag/sag_IRVN_TCJPGSM.wav', 'data/database/yukari/yukari_IRVN_ESCGJVM.wav', 'data/database/ac/ac_TVYM_EZHSMUP.wav', 'data/database/asagi/asagi_TVYM_OBXSFHJ.wav', 'data/database/baslat/baslat_TVYM_USMXIRL.wav', 'data/database/baslat/baslat_TVYM_MQLJRNK.wav', 'data/database/devam/devam_TVYM_LVPKNIS.wav', 'data/database/evet/evet_TVYM_VZHXYAU.wav', 'data/database/geri/geri_TVYM_JQRFVOL.wav', 'data/database/hayir/hayir_TVYM_NWVFTLK.wav', 'data/database/kapa/kapa_TVYM_RIGJAQO.wav', 'data/database/sag/sag_TVYM_ILHZADM.wav', 'data/database/sol/sol_TVYM_LOGXRKH.wav', 'data/database/yukari/yukari_TVYM_ZSCQGXI.wav', 'data/database/ileri/ileri_TVYM_NREFCGH.wav', 'data/database/iptal/iptal_TVYM_VBTDKME.wav', 'data/database/ac/ac_YQXI_LPSEFHR.wav', 'data/database/ac/ac_YQXI_EJDSGHV.wav', 'data/database/ac/ac_YQXI_MSKNUVX.wav', 'data/database/ac/ac_YQXI_BMVKILO.wav', 'data/database/ac/ac_YQXI_MHBRQEL.wav', 'data/database/ac/ac_YQXI_FLRXDZN.wav', 'data/database/ac/ac_YQXI_KUSDVRP.wav', 'data/database/ac/ac_YQXI_TMPWJVD.wav', 'data/database/ac/ac_YQXI_RMVKSDI.wav', 'data/database/asagi/asagi_YQXI_ZBFVLGX.wav', 'data/database/asagi/asagi_YQXI_DJSETRW.wav', 'data/database/asagi/asagi_YQXI_WMSIXHA.wav', 'data/database/asagi/asagi_YQXI_JMZXNRI.wav', 'data/database/asagi/asagi_YQXI_VECWRXK.wav', 'data/database/asagi/asagi_YQXI_XYUVKGL.wav', 'data/database/asagi/asagi_YQXI_YQBVRSK.wav', 'data/database/baslat/baslat_YQXI_VYOXZTB.wav', 'data/database/baslat/baslat_YQXI_FHUPMOZ.wav', 'data/database/baslat/baslat_YQXI_CNJKRPE.wav', 'data/database/baslat/baslat_YQXI_WUMEFNC.wav', 'data/database/baslat/baslat_YQXI_PIVFHDQ.wav', 'data/database/baslat/baslat_YQXI_HWVYUMO.wav', 'data/database/baslat/baslat_YQXI_ETJWVCU.wav', 'data/database/baslat/baslat_YQXI_BJCXFSV.wav', 'data/database/devam/devam_YQXI_LSOJYWN.wav', 'data/database/devam/devam_YQXI_WUDXYIQ.wav', 'data/database/devam/devam_YQXI_ZDEAIKO.wav', 'data/database/devam/devam_YQXI_JZPQFNA.wav', 'data/database/devam/devam_YQXI_NXATQLC.wav', 'data/database/devam/devam_YQXI_PRFWHLA.wav', 'data/database/devam/devam_YQXI_TFAKJWH.wav', 'data/database/devam/devam_YQXI_CKSAEGR.wav', 'data/database/dur/dur_YQXI_WHEIVMA.wav', 'data/database/dur/dur_YQXI_PSUVAEN.wav', 'data/database/dur/dur_YQXI_NPEDHWC.wav', 'data/database/dur/dur_YQXI_UEHWPXY.wav', 'data/database/dur/dur_YQXI_OMCWYLV.wav', 'data/database/dur/dur_YQXI_SZIRJFD.wav', 'data/database/dur/dur_YQXI_RCMWXNS.wav', 'data/database/dur/dur_YQXI_PZGVESR.wav', 'data/database/evet/evet_YQXI_MYGRUAW.wav', 'data/database/evet/evet_YQXI_HEWNRPQ.wav', 'data/database/evet/evet_YQXI_IOMLJKP.wav', 'data/database/evet/evet_YQXI_RSTGHAD.wav', 'data/database/evet/evet_YQXI_DEGTKLB.wav', 'data/database/evet/evet_YQXI_MFQETCN.wav', 'data/database/evet/evet_YQXI_XTYDEJN.wav', 'data/database/evet/evet_YQXI_UIWLKHF.wav', 'data/database/geri/geri_YQXI_PMENRUC.wav', 'data/database/geri/geri_YQXI_BRONGKA.wav', 'data/database/geri/geri_YQXI_WERPSBG.wav', 'data/database/geri/geri_YQXI_IRTLZQG.wav', 'data/database/geri/geri_YQXI_DBZLSPR.wav', 'data/database/geri/geri_YQXI_VFBEJSQ.wav', 'data/database/geri/geri_YQXI_GKWBJQR.wav', 'data/database/geri/geri_YQXI_CAWDZFG.wav', 'data/database/hayir/hayir_YQXI_RKGPWTZ.wav', 'data/database/hayir/hayir_YQXI_TFMGSDR.wav', 'data/database/hayir/hayir_YQXI_STBOFCL.wav', 'data/database/hayir/hayir_YQXI_QHXSATG.wav', 'data/database/hayir/hayir_YQXI_QASCJTO.wav', 'data/database/hayir/hayir_YQXI_ZOPJWIE.wav', 'data/database/hayir/hayir_YQXI_YGXNEWK.wav', 'data/database/hayir/hayir_YQXI_FHRTVEX.wav', 'data/database/hayir/hayir_YQXI_JKVMALH.wav', 'data/database/ileri/ileri_YQXI_WLUHEAX.wav', 'data/database/ileri/ileri_YQXI_OGYVBQJ.wav', 'data/database/ileri/ileri_YQXI_OJNCKSL.wav', 'data/database/ileri/ileri_YQXI_FYLUJTC.wav', 'data/database/ileri/ileri_YQXI_BFZCAVU.wav', 'data/database/ileri/ileri_YQXI_ZFOSDQM.wav', 'data/database/ileri/ileri_YQXI_EJYINDW.wav', 'data/database/ileri/ileri_YQXI_NMECVWK.wav', 'data/database/iptal/iptal_YQXI_ELQCRAY.wav', 'data/database/iptal/iptal_YQXI_BYDORZT.wav', 'data/database/iptal/iptal_YQXI_YTUSREN.wav', 'data/database/iptal/iptal_YQXI_UCSMFXA.wav', 'data/database/iptal/iptal_YQXI_MOYGQNK.wav', 'data/database/iptal/iptal_YQXI_PCERIAS.wav', 'data/database/iptal/iptal_YQXI_BAHFOSK.wav', 'data/database/iptal/iptal_YQXI_XNDSFCL.wav', 'data/database/iptal/iptal_YQXI_YFWQUDS.wav', 'data/database/kapa/kapa_YQXI_QIWJGOS.wav', 'data/database/kapa/kapa_YQXI_GYCESOX.wav', 'data/database/kapa/kapa_YQXI_ATPMOZW.wav', 'data/database/kapa/kapa_YQXI_STUFOMR.wav', 'data/database/kapa/kapa_YQXI_CQEMFYK.wav', 'data/database/kapa/kapa_YQXI_MGDRZYX.wav', 'data/database/kapa/kapa_YQXI_EYWRAKT.wav', 'data/database/kapa/kapa_YQXI_MGEFTOC.wav', 'data/database/sag/sag_YQXI_QXWZFKB.wav', 'data/database/sag/sag_YQXI_WSLCQJD.wav', 'data/database/sag/sag_YQXI_IBGUDEV.wav', 'data/database/sag/sag_YQXI_OHQLFZW.wav', 'data/database/sag/sag_YQXI_OSHDGBK.wav', 'data/database/sag/sag_YQXI_MIGOAFJ.wav', 'data/database/sag/sag_YQXI_XJKYSWA.wav', 'data/database/sag/sag_YQXI_CBJQGRH.wav', 'data/database/sol/sol_YQXI_KIBYAWN.wav', 'data/database/sol/sol_YQXI_XRYHVAB.wav', 'data/database/sol/sol_YQXI_LYQFUCI.wav', 'data/database/sol/sol_YQXI_LEVWPSF.wav', 'data/database/sol/sol_YQXI_RWDBGVP.wav', 'data/database/sol/sol_YQXI_SNGHELB.wav', 'data/database/sol/sol_YQXI_LZFKBUM.wav', 'data/database/sol/sol_YQXI_IOVKWHQ.wav', 'data/database/sol/sol_YQXI_ROVIJDP.wav', 'data/database/yukari/yukari_YQXI_NTIXVEF.wav', 'data/database/yukari/yukari_YQXI_OYUHANK.wav', 'data/database/yukari/yukari_YQXI_DMPYOLH.wav', 'data/database/yukari/yukari_YQXI_PMSKDXW.wav', 'data/database/yukari/yukari_YQXI_NUBVFAC.wav', 'data/database/yukari/yukari_YQXI_EKQRHTA.wav', 'data/database/yukari/yukari_YQXI_PUBMKXJ.wav', 'data/database/yukari/yukari_YQXI_SHNODVF.wav', 'data/database/yukari/yukari_YQXI_RFNUJOB.wav', 'data/database/ac/ac_TPBL_GJYUDQV.wav', 'data/database/ac/ac_TPBL_JSUDYNV.wav', 'data/database/ac/ac_TPBL_MYLQTBK.wav', 'data/database/ac/ac_TPBL_MHNCYUE.wav', 'data/database/ac/ac_TPBL_VYDZSEH.wav', 'data/database/ac/ac_TPBL_VLWBRNJ.wav', 'data/database/ac/ac_TPBL_WFEUINJ.wav', 'data/database/ac/ac_TPBL_CGJNOUQ.wav', 'data/database/ac/ac_TPBL_IWMBLSQ.wav', 'data/database/asagi/asagi_TPBL_XMCSUNI.wav', 'data/database/asagi/asagi_TPBL_PDOLYHQ.wav', 'data/database/asagi/asagi_TPBL_MNKBJDP.wav', 'data/database/asagi/asagi_TPBL_JWYLSOG.wav', 'data/database/asagi/asagi_TPBL_XTSDRHB.wav', 'data/database/asagi/asagi_TPBL_YGCBUZJ.wav', 'data/database/asagi/asagi_TPBL_EWJPTQM.wav', 'data/database/asagi/asagi_TPBL_AEQXBWO.wav', 'data/database/asagi/asagi_TPBL_RSVNADM.wav', 'data/database/baslat/baslat_TPBL_CQTWZNG.wav', 'data/database/baslat/baslat_TPBL_FKRSJVN.wav', 'data/database/baslat/baslat_TPBL_CHKVDWI.wav', 'data/database/baslat/baslat_TPBL_XJNTQWH.wav', 'data/database/baslat/baslat_TPBL_TFOLBVQ.wav', 'data/database/baslat/baslat_TPBL_MONXRDA.wav', 'data/database/baslat/baslat_TPBL_YGUFVET.wav', 'data/database/baslat/baslat_TPBL_EXDRVNB.wav', 'data/database/baslat/baslat_TPBL_RQXZBKY.wav', 'data/database/devam/devam_TPBL_LUAONTZ.wav', 'data/database/devam/devam_TPBL_WAVQYOB.wav', 'data/database/devam/devam_TPBL_FOHVRMD.wav', 'data/database/devam/devam_TPBL_PMKVJWI.wav', 'data/database/devam/devam_TPBL_ZRDIHBG.wav', 'data/database/devam/devam_TPBL_WOCREBN.wav', 'data/database/devam/devam_TPBL_QOARSLK.wav', 'data/database/devam/devam_TPBL_DPKWHZI.wav', 'data/database/devam/devam_TPBL_SUGEDOZ.wav', 'data/database/dur/dur_TPBL_TNSJIUY.wav', 'data/database/dur/dur_TPBL_ZANVJEY.wav', 'data/database/dur/dur_TPBL_EUBNLVW.wav', 'data/database/dur/dur_TPBL_UATWQYK.wav', 'data/database/dur/dur_TPBL_UDCQLMY.wav', 'data/database/dur/dur_TPBL_PSBYMVI.wav', 'data/database/dur/dur_TPBL_BZQPCHD.wav', 'data/database/dur/dur_TPBL_HNABQWR.wav', 'data/database/dur/dur_TPBL_BVHQGNU.wav', 'data/database/evet/evet_TPBL_WFJAHLE.wav', 'data/database/evet/evet_TPBL_TQSEIJK.wav', 'data/database/evet/evet_TPBL_FCMWJIT.wav', 'data/database/evet/evet_TPBL_LNYMCWR.wav', 'data/database/evet/evet_TPBL_GDAUCSY.wav', 'data/database/evet/evet_TPBL_USETMFY.wav', 'data/database/evet/evet_TPBL_ATRKQSY.wav', 'data/database/evet/evet_TPBL_DFJTLQG.wav', 'data/database/evet/evet_TPBL_DTBZNAY.wav', 'data/database/geri/geri_TPBL_KOSTBXA.wav', 'data/database/geri/geri_TPBL_LOASFMZ.wav', 'data/database/geri/geri_TPBL_AUZKDSL.wav', 'data/database/geri/geri_TPBL_TCEKPRB.wav', 'data/database/geri/geri_TPBL_JYTUOZI.wav', 'data/database/geri/geri_TPBL_CEYVMDS.wav', 'data/database/geri/geri_TPBL_GQDKLWC.wav', 'data/database/geri/geri_TPBL_CQUPMWL.wav', 'data/database/geri/geri_TPBL_PLCJYRF.wav', 'data/database/hayir/hayir_TPBL_HFYZIEX.wav', 'data/database/hayir/hayir_TPBL_AYWNJBK.wav', 'data/database/hayir/hayir_TPBL_VYXFCUH.wav', 'data/database/hayir/hayir_TPBL_IRPFNJG.wav', 'data/database/hayir/hayir_TPBL_KWVOCZL.wav', 'data/database/hayir/hayir_TPBL_BQELWHX.wav', 'data/database/hayir/hayir_TPBL_WCFARJN.wav', 'data/database/hayir/hayir_TPBL_UQENITC.wav', 'data/database/hayir/hayir_TPBL_KCHQLJZ.wav', 'data/database/kapa/kapa_TPBL_UTAQMJK.wav', 'data/database/kapa/kapa_TPBL_NGBMYHS.wav', 'data/database/kapa/kapa_TPBL_IBPSHAU.wav', 'data/database/kapa/kapa_TPBL_VTSHEAZ.wav', 'data/database/kapa/kapa_TPBL_OTDUXLQ.wav', 'data/database/kapa/kapa_TPBL_DILOXVA.wav', 'data/database/kapa/kapa_TPBL_QWEVNBI.wav', 'data/database/kapa/kapa_TPBL_BSUVJQO.wav', 'data/database/kapa/kapa_TPBL_OFXWJST.wav', 'data/database/sag/sag_TPBL_QAKPZTR.wav', 'data/database/sag/sag_TPBL_VODPSBM.wav', 'data/database/sag/sag_TPBL_ADEYOSJ.wav', 'data/database/sag/sag_TPBL_TWZBQKV.wav', 'data/database/sag/sag_TPBL_ZBYCDTA.wav', 'data/database/sag/sag_TPBL_UJFZSYR.wav', 'data/database/sag/sag_TPBL_SOZWTDG.wav', 'data/database/sag/sag_TPBL_SYEMUNO.wav', 'data/database/sag/sag_TPBL_JQRGZEX.wav', 'data/database/sol/sol_TPBL_UVJEKNY.wav', 'data/database/sol/sol_TPBL_DHBFEJX.wav', 'data/database/sol/sol_TPBL_PUHNRMZ.wav', 'data/database/sol/sol_TPBL_QBZCUVG.wav', 'data/database/sol/sol_TPBL_VNSBOMP.wav', 'data/database/sol/sol_TPBL_SIWBQUZ.wav', 'data/database/sol/sol_TPBL_IDRXZBC.wav', 'data/database/sol/sol_TPBL_OWKFYIP.wav', 'data/database/sol/sol_TPBL_UEFCAQI.wav', 'data/database/yukari/yukari_TPBL_KXLZAPM.wav', 'data/database/yukari/yukari_TPBL_VZJXDGL.wav', 'data/database/yukari/yukari_TPBL_IAMEFVW.wav', 'data/database/yukari/yukari_TPBL_PYDNHCA.wav', 'data/database/yukari/yukari_TPBL_RPUEQHM.wav', 'data/database/yukari/yukari_TPBL_FRLHYSI.wav', 'data/database/yukari/yukari_TPBL_EXAOMFN.wav', 'data/database/yukari/yukari_TPBL_NAGBYZS.wav', 'data/database/yukari/yukari_TPBL_KHBSDJE.wav', 'data/database/ileri/ileri_TPBL_THFKXJD.wav', 'data/database/ileri/ileri_TPBL_MKOZRUS.wav', 'data/database/ileri/ileri_TPBL_STDPRYE.wav', 'data/database/ileri/ileri_TPBL_WOGKNAH.wav', 'data/database/ileri/ileri_TPBL_UXZYWNO.wav', 'data/database/ileri/ileri_TPBL_JDCYOVF.wav', 'data/database/ileri/ileri_TPBL_VBSHTNR.wav', 'data/database/ileri/ileri_TPBL_KAUWLRE.wav', 'data/database/ileri/ileri_TPBL_MAOCRZX.wav', 'data/database/iptal/iptal_TPBL_YDEJVHL.wav', 'data/database/iptal/iptal_TPBL_DQVZYJO.wav', 'data/database/iptal/iptal_TPBL_RUHVBCM.wav', 'data/database/iptal/iptal_TPBL_XYHKJVD.wav', 'data/database/iptal/iptal_TPBL_TVKFCYJ.wav', 'data/database/iptal/iptal_TPBL_EQGMYSB.wav', 'data/database/iptal/iptal_TPBL_GPHEDNC.wav', 'data/database/iptal/iptal_TPBL_ALZOGYF.wav', 'data/database/iptal/iptal_TPBL_XNRPTOU.wav', 'data/database/ac/ac_EMCL_MEVBTQG.wav', 'data/database/ac/ac_EMCL_HKVSTEF.wav', 'data/database/ac/ac_EMCL_TYSZAHV.wav', 'data/database/ac/ac_EMCL_LXNUEFQ.wav', 'data/database/ac/ac_EMCL_DIQVGNO.wav', 'data/database/ac/ac_EMCL_WOZYTKQ.wav', 'data/database/ac/ac_EMCL_LHXFOEW.wav', 'data/database/ac/ac_EMCL_AVZRDFW.wav', 'data/database/ac/ac_EMCL_DBJCULF.wav', 'data/database/asagi/asagi_EMCL_YPJAXLU.wav', 'data/database/asagi/asagi_EMCL_GRKIVHW.wav', 'data/database/asagi/asagi_EMCL_FSXOWNI.wav', 'data/database/asagi/asagi_EMCL_MNYAZXU.wav', 'data/database/asagi/asagi_EMCL_TVQSRMW.wav', 'data/database/asagi/asagi_EMCL_QGXMKWT.wav', 'data/database/asagi/asagi_EMCL_NAPZMSR.wav', 'data/database/asagi/asagi_EMCL_SOTFUGC.wav', 'data/database/asagi/asagi_EMCL_LPMINSX.wav', 'data/database/baslat/baslat_EMCL_EAIXZKW.wav', 'data/database/baslat/baslat_EMCL_KTZCHEF.wav', 'data/database/baslat/baslat_EMCL_RWDVBPC.wav', 'data/database/baslat/baslat_EMCL_OVMPNAY.wav', 'data/database/baslat/baslat_EMCL_SKCLEYZ.wav', 'data/database/baslat/baslat_EMCL_WEIQPCR.wav', 'data/database/baslat/baslat_EMCL_HUIRQPY.wav', 'data/database/baslat/baslat_EMCL_IZWQCTR.wav', 'data/database/baslat/baslat_EMCL_FWSOQYT.wav', 'data/database/devam/devam_EMCL_ETCVWPN.wav', 'data/database/devam/devam_EMCL_AFRMZUW.wav', 'data/database/devam/devam_EMCL_JVIHKNA.wav', 'data/database/devam/devam_EMCL_RJAXVBQ.wav', 'data/database/devam/devam_EMCL_GQZXKRS.wav', 'data/database/devam/devam_EMCL_BUMKGVO.wav', 'data/database/devam/devam_EMCL_WVHCJGI.wav', 'data/database/devam/devam_EMCL_YBXJIRP.wav', 'data/database/devam/devam_EMCL_QEFRUNX.wav', 'data/database/dur/dur_EMCL_ASPRHYF.wav', 'data/database/dur/dur_EMCL_OTAQHIL.wav', 'data/database/dur/dur_EMCL_NBLRFUZ.wav', 'data/database/dur/dur_EMCL_TQOSWFI.wav', 'data/database/dur/dur_EMCL_HWGRKVQ.wav', 'data/database/dur/dur_EMCL_DGRCYON.wav', 'data/database/dur/dur_EMCL_TYXFEQM.wav', 'data/database/dur/dur_EMCL_PNJKDLF.wav', 'data/database/dur/dur_EMCL_SDFQMAL.wav', 'data/database/evet/evet_EMCL_RTBFCVN.wav', 'data/database/evet/evet_EMCL_IUKOEJH.wav', 'data/database/evet/evet_EMCL_SUDWBME.wav', 'data/database/evet/evet_EMCL_NOMEPTL.wav', 'data/database/evet/evet_EMCL_FTAMGRJ.wav', 'data/database/evet/evet_EMCL_JXKAQPH.wav', 'data/database/evet/evet_EMCL_VKZGANU.wav', 'data/database/evet/evet_EMCL_IKUEMXA.wav', 'data/database/evet/evet_EMCL_ZWMRBIC.wav', 'data/database/geri/geri_EMCL_SXRHQNG.wav', 'data/database/geri/geri_EMCL_KCXVOMP.wav', 'data/database/geri/geri_EMCL_TZDAFHU.wav', 'data/database/geri/geri_EMCL_DNMPTSL.wav', 'data/database/geri/geri_EMCL_YQGPEBO.wav', 'data/database/geri/geri_EMCL_HMOIEGA.wav', 'data/database/geri/geri_EMCL_EHCPNZM.wav', 'data/database/geri/geri_EMCL_YEXDPGI.wav', 'data/database/hayir/hayir_EMCL_FATDMLX.wav', 'data/database/hayir/hayir_EMCL_AGOYNXJ.wav', 'data/database/hayir/hayir_EMCL_ZFUKOMW.wav', 'data/database/hayir/hayir_EMCL_JZAGFTV.wav', 'data/database/hayir/hayir_EMCL_RUZTBHJ.wav', 'data/database/hayir/hayir_EMCL_MPLIJVN.wav', 'data/database/hayir/hayir_EMCL_RJDMLFU.wav', 'data/database/hayir/hayir_EMCL_JNEWGQV.wav', 'data/database/hayir/hayir_EMCL_SIGMYUD.wav', 'data/database/kapa/kapa_EMCL_YWRVEUH.wav', 'data/database/kapa/kapa_EMCL_YCDWJXQ.wav', 'data/database/kapa/kapa_EMCL_MHNTWAD.wav', 'data/database/kapa/kapa_EMCL_BQSAJXZ.wav', 'data/database/kapa/kapa_EMCL_BTXAJPG.wav', 'data/database/kapa/kapa_EMCL_VGKXYTL.wav', 'data/database/kapa/kapa_EMCL_EBULPNV.wav', 'data/database/kapa/kapa_EMCL_CMSWLTI.wav', 'data/database/kapa/kapa_EMCL_CGUROEK.wav', 'data/database/sag/sag_EMCL_FEDZCIY.wav', 'data/database/sag/sag_EMCL_SIXPBMO.wav', 'data/database/sag/sag_EMCL_HCZPKXQ.wav', 'data/database/sag/sag_EMCL_NRZAKDG.wav', 'data/database/sag/sag_EMCL_DFYOSHE.wav', 'data/database/sag/sag_EMCL_XQFOHKY.wav', 'data/database/sag/sag_EMCL_EHFKBMD.wav', 'data/database/sag/sag_EMCL_VLOXAHN.wav', 'data/database/sag/sag_EMCL_JIEGHTD.wav', 'data/database/sol/sol_EMCL_QHYKTJF.wav', 'data/database/sol/sol_EMCL_CVULXFN.wav', 'data/database/sol/sol_EMCL_PJVKWRN.wav', 'data/database/sol/sol_EMCL_ZLFMBEV.wav', 'data/database/sol/sol_EMCL_KUATSQL.wav', 'data/database/sol/sol_EMCL_ECBYTAU.wav', 'data/database/sol/sol_EMCL_VEOYBMX.wav', 'data/database/sol/sol_EMCL_EWMOALX.wav', 'data/database/sol/sol_EMCL_VPGEMWF.wav', 'data/database/yukari/yukari_EMCL_JCOPEDU.wav', 'data/database/yukari/yukari_EMCL_KJMEACL.wav', 'data/database/yukari/yukari_EMCL_CTNFWSV.wav', 'data/database/yukari/yukari_EMCL_REHPKQO.wav', 'data/database/yukari/yukari_EMCL_UVQXTSK.wav', 'data/database/yukari/yukari_EMCL_PCSGLBO.wav', 'data/database/yukari/yukari_EMCL_JFZSNCT.wav', 'data/database/yukari/yukari_EMCL_XJGZWRF.wav', 'data/database/yukari/yukari_EMCL_CMISUOX.wav', 'data/database/ileri/ileri_EMCL_XJQBYTK.wav', 'data/database/ileri/ileri_EMCL_ECLASRW.wav', 'data/database/ileri/ileri_EMCL_WPKEDQH.wav', 'data/database/ileri/ileri_EMCL_XBSUVTC.wav', 'data/database/ileri/ileri_EMCL_KYGDBNS.wav', 'data/database/ileri/ileri_EMCL_NCFIPRZ.wav', 'data/database/ileri/ileri_EMCL_UHMTGSP.wav', 'data/database/ileri/ileri_EMCL_NLKWDOM.wav', 'data/database/ileri/ileri_EMCL_YSDTUIG.wav', 'data/database/iptal/iptal_EMCL_CFKJHSZ.wav', 'data/database/iptal/iptal_EMCL_DRJPYOF.wav', 'data/database/iptal/iptal_EMCL_DWOKPMX.wav', 'data/database/iptal/iptal_EMCL_HPQMDXW.wav', 'data/database/iptal/iptal_EMCL_LYZGIPR.wav', 'data/database/iptal/iptal_EMCL_TSRHNFY.wav', 'data/database/iptal/iptal_EMCL_SKTOMER.wav', 'data/database/iptal/iptal_EMCL_ECHIBLW.wav', 'data/database/iptal/iptal_EMCL_HKMYGQS.wav', 'data/database/ac/ac_DMLN_ESMOZKU.wav', 'data/database/ac/ac_DMLN_POYDEJK.wav', 'data/database/ac/ac_DMLN_CRSNBEJ.wav', 'data/database/ac/ac_DMLN_PDMQOJT.wav', 'data/database/ac/ac_DMLN_PRLBVEA.wav', 'data/database/ac/ac_DMLN_ZUSDQHP.wav', 'data/database/ac/ac_DMLN_QSVJBLN.wav', 'data/database/asagi/asagi_DMLN_BXLCYWE.wav', 'data/database/asagi/asagi_DMLN_LWTYIVX.wav', 'data/database/asagi/asagi_DMLN_JSQZVMC.wav', 'data/database/asagi/asagi_DMLN_ZBNGKRL.wav', 'data/database/asagi/asagi_DMLN_UTQEXKW.wav', 'data/database/asagi/asagi_DMLN_TKJBPHL.wav', 'data/database/asagi/asagi_DMLN_YXTNVFH.wav', 'data/database/baslat/baslat_DMLN_YFRXMQJ.wav', 'data/database/baslat/baslat_DMLN_PXMGBAL.wav', 'data/database/baslat/baslat_DMLN_REMIHAW.wav', 'data/database/baslat/baslat_DMLN_YFSZQEV.wav', 'data/database/baslat/baslat_DMLN_UKXFYSN.wav', 'data/database/baslat/baslat_DMLN_CIZWEPJ.wav', 'data/database/baslat/baslat_DMLN_RHDVXZL.wav', 'data/database/devam/devam_DMLN_FWZSYNC.wav', 'data/database/devam/devam_DMLN_VJAHNIT.wav', 'data/database/devam/devam_DMLN_TASLMHC.wav', 'data/database/devam/devam_DMLN_QRLZOUS.wav', 'data/database/devam/devam_DMLN_UKELHWG.wav', 'data/database/devam/devam_DMLN_CKMPUXQ.wav', 'data/database/devam/devam_DMLN_SVCTQPU.wav', 'data/database/dur/dur_DMLN_TDCYVZL.wav', 'data/database/dur/dur_DMLN_FKCOREB.wav', 'data/database/dur/dur_DMLN_BKGQWFI.wav', 'data/database/dur/dur_DMLN_SRJVBPK.wav', 'data/database/dur/dur_DMLN_VTNSFUH.wav', 'data/database/dur/dur_DMLN_FMVXLRH.wav', 'data/database/dur/dur_DMLN_UHIDXEM.wav', 'data/database/evet/evet_DMLN_XZOMDPW.wav', 'data/database/evet/evet_DMLN_NKZUTID.wav', 'data/database/evet/evet_DMLN_MQTWVKS.wav', 'data/database/evet/evet_DMLN_RQYLVSE.wav', 'data/database/evet/evet_DMLN_KUYAPES.wav', 'data/database/geri/geri_DMLN_BQKTPYV.wav', 'data/database/geri/geri_DMLN_BIWCAJV.wav', 'data/database/geri/geri_DMLN_HQCYAPS.wav', 'data/database/geri/geri_DMLN_SXUKBIH.wav', 'data/database/geri/geri_DMLN_ERYTVAM.wav', 'data/database/geri/geri_DMLN_RQYOPTJ.wav', 'data/database/geri/geri_DMLN_EGQYCXF.wav', 'data/database/hayir/hayir_DMLN_LERHXNI.wav', 'data/database/hayir/hayir_DMLN_THGOCDJ.wav', 'data/database/hayir/hayir_DMLN_IZEYDCN.wav', 'data/database/hayir/hayir_DMLN_ETALGHV.wav', 'data/database/hayir/hayir_DMLN_SNUGEOR.wav', 'data/database/hayir/hayir_DMLN_EUOZXWG.wav', 'data/database/kapa/kapa_DMLN_WBYVSHP.wav', 'data/database/kapa/kapa_DMLN_UBFENQJ.wav', 'data/database/kapa/kapa_DMLN_JWTXASU.wav', 'data/database/kapa/kapa_DMLN_XZERAGN.wav', 'data/database/kapa/kapa_DMLN_JOLGUWA.wav', 'data/database/kapa/kapa_DMLN_AFRVJTL.wav', 'data/database/sag/sag_DMLN_QHCZUTY.wav', 'data/database/sag/sag_DMLN_DSJUEQZ.wav', 'data/database/sag/sag_DMLN_BACOKJQ.wav', 'data/database/sag/sag_DMLN_SQAFJML.wav', 'data/database/sag/sag_DMLN_QVULWRK.wav', 'data/database/sol/sol_DMLN_VNFGRTK.wav', 'data/database/sol/sol_DMLN_NLGXZHS.wav', 'data/database/sol/sol_DMLN_HIFBRDO.wav', 'data/database/sol/sol_DMLN_ROWXFPQ.wav', 'data/database/sol/sol_DMLN_KDURNML.wav', 'data/database/sol/sol_DMLN_BYOGSAI.wav', 'data/database/sol/sol_DMLN_DKSJLUV.wav', 'data/database/yukari/yukari_DMLN_GIYMAJU.wav', 'data/database/yukari/yukari_DMLN_XRKISEA.wav', 'data/database/yukari/yukari_DMLN_DUTFBNA.wav', 'data/database/yukari/yukari_DMLN_XNPCHAT.wav', 'data/database/yukari/yukari_DMLN_FCTRWLG.wav', 'data/database/yukari/yukari_DMLN_TRVIYOC.wav', 'data/database/evet/evet_DMLN_UTJSADW.wav', 'data/database/evet/evet_DMLN_YJWRVHB.wav', 'data/database/ileri/ileri_DMLN_LFIXYNZ.wav', 'data/database/ileri/ileri_DMLN_WRFTLUN.wav', 'data/database/ileri/ileri_DMLN_SGIHLXJ.wav', 'data/database/ileri/ileri_DMLN_BVLSHTW.wav', 'data/database/ileri/ileri_DMLN_FAETBSN.wav', 'data/database/ileri/ileri_DMLN_IZAWMEN.wav', 'data/database/ileri/ileri_DMLN_ORBMAWV.wav', 'data/database/iptal/iptal_DMLN_HWTVYCP.wav', 'data/database/iptal/iptal_DMLN_MUFIAGV.wav', 'data/database/iptal/iptal_DMLN_XUFEIVD.wav', 'data/database/iptal/iptal_DMLN_PJFYBTW.wav', 'data/database/iptal/iptal_DMLN_OTCZDLK.wav', 'data/database/iptal/iptal_DMLN_PDYBCTQ.wav', 'data/database/iptal/iptal_DMLN_GUEHILC.wav', 'data/database/kapa/kapa_DMLN_UZVTWRP.wav', 'data/database/sag/sag_DMLN_ITRZCKJ.wav', 'data/database/sag/sag_DMLN_BZGVYNS.wav', 'data/database/yukari/yukari_DMLN_DHXGYFW.wav', 'data/database/ac/ac_UQEN_YDJGMRL.wav', 'data/database/ac/ac_UQEN_ZKAQJLX.wav', 'data/database/ac/ac_UQEN_CAYSXOE.wav', 'data/database/ac/ac_UQEN_CNBJHXO.wav', 'data/database/ac/ac_UQEN_AZSUBOP.wav', 'data/database/ac/ac_UQEN_AKQHINT.wav', 'data/database/ac/ac_UQEN_TPAVXWQ.wav', 'data/database/ac/ac_UQEN_IRGOLJW.wav', 'data/database/ac/ac_UQEN_AKXIDGW.wav', 'data/database/asagi/asagi_UQEN_TAWGKML.wav', 'data/database/asagi/asagi_UQEN_DSVFLMT.wav', 'data/database/asagi/asagi_UQEN_GJCBTEP.wav', 'data/database/asagi/asagi_UQEN_SCLNQKU.wav', 'data/database/asagi/asagi_UQEN_FCOVUNE.wav', 'data/database/asagi/asagi_UQEN_CAYRILD.wav', 'data/database/asagi/asagi_UQEN_GBLVXAD.wav', 'data/database/asagi/asagi_UQEN_YQFHBVA.wav', 'data/database/asagi/asagi_UQEN_FTCDAUL.wav', 'data/database/baslat/baslat_UQEN_HGPTSYB.wav', 'data/database/baslat/baslat_UQEN_CKUORHQ.wav', 'data/database/baslat/baslat_UQEN_VTNMZWY.wav', 'data/database/baslat/baslat_UQEN_TZMPUGS.wav', 'data/database/baslat/baslat_UQEN_EFWPVQT.wav', 'data/database/baslat/baslat_UQEN_PAUMZRC.wav', 'data/database/baslat/baslat_UQEN_DYJBHKL.wav', 'data/database/baslat/baslat_UQEN_ZKYSVLR.wav', 'data/database/baslat/baslat_UQEN_YGTWULE.wav', 'data/database/devam/devam_UQEN_VIRJHDY.wav', 'data/database/devam/devam_UQEN_SDOUFWV.wav', 'data/database/devam/devam_UQEN_AWOZXPH.wav', 'data/database/devam/devam_UQEN_CHWFYGO.wav', 'data/database/devam/devam_UQEN_LZYFIWA.wav', 'data/database/devam/devam_UQEN_ZYCJVOM.wav', 'data/database/devam/devam_UQEN_PNDHEXS.wav', 'data/database/devam/devam_UQEN_WTDSCHZ.wav', 'data/database/devam/devam_UQEN_VCKBIUE.wav', 'data/database/dur/dur_UQEN_GOMHAYR.wav', 'data/database/dur/dur_UQEN_FMWEHLA.wav', 'data/database/dur/dur_UQEN_WAGCQLZ.wav', 'data/database/dur/dur_UQEN_GZWJHPM.wav', 'data/database/dur/dur_UQEN_HIRWSJT.wav', 'data/database/dur/dur_UQEN_EDAKJYH.wav', 'data/database/dur/dur_UQEN_OWMBTAN.wav', 'data/database/dur/dur_UQEN_FHJLKWY.wav', 'data/database/dur/dur_UQEN_IKFOPLB.wav', 'data/database/evet/evet_UQEN_EZIRHST.wav', 'data/database/evet/evet_UQEN_FEXOSDH.wav', 'data/database/evet/evet_UQEN_TKFHRUQ.wav', 'data/database/evet/evet_UQEN_FEABQUN.wav', 'data/database/evet/evet_UQEN_LOQGDKU.wav', 'data/database/evet/evet_UQEN_WJEOANX.wav', 'data/database/evet/evet_UQEN_VGFSCIW.wav', 'data/database/evet/evet_UQEN_CLTZFJK.wav', 'data/database/evet/evet_UQEN_QEDPMSO.wav', 'data/database/geri/geri_UQEN_DYZQFMX.wav', 'data/database/geri/geri_UQEN_OXKTUEI.wav', 'data/database/geri/geri_UQEN_PMRAWLO.wav', 'data/database/geri/geri_UQEN_FQMBLIO.wav', 'data/database/geri/geri_UQEN_WGBESYV.wav', 'data/database/geri/geri_UQEN_QZTEFWP.wav', 'data/database/geri/geri_UQEN_FJYMGSV.wav', 'data/database/geri/geri_UQEN_JUGNBDX.wav', 'data/database/geri/geri_UQEN_JTAGDUL.wav', 'data/database/hayir/hayir_UQEN_EOLAGQN.wav', 'data/database/hayir/hayir_UQEN_WPJYALI.wav', 'data/database/hayir/hayir_UQEN_ULQYDVA.wav', 'data/database/hayir/hayir_UQEN_ESQMHJK.wav', 'data/database/hayir/hayir_UQEN_FPOUYIM.wav', 'data/database/hayir/hayir_UQEN_RHIACOF.wav', 'data/database/hayir/hayir_UQEN_HZNCIFP.wav', 'data/database/hayir/hayir_UQEN_QLMXRWK.wav', 'data/database/hayir/hayir_UQEN_IJGEYPW.wav', 'data/database/kapa/kapa_UQEN_BLVCROG.wav', 'data/database/kapa/kapa_UQEN_QYVOTIB.wav', 'data/database/kapa/kapa_UQEN_YFPKJOU.wav', 'data/database/kapa/kapa_UQEN_ZHIWYQL.wav', 'data/database/kapa/kapa_UQEN_RUDWITV.wav', 'data/database/kapa/kapa_UQEN_LTMPWRV.wav', 'data/database/kapa/kapa_UQEN_JKPBVHG.wav', 'data/database/kapa/kapa_UQEN_CHZYODB.wav', 'data/database/kapa/kapa_UQEN_WIDUTZE.wav', 'data/database/sag/sag_UQEN_JBODNUE.wav', 'data/database/sag/sag_UQEN_XQVOTCW.wav', 'data/database/sag/sag_UQEN_DOEQRNP.wav', 'data/database/sag/sag_UQEN_GUSWTQX.wav', 'data/database/sag/sag_UQEN_QYUPZWC.wav', 'data/database/sag/sag_UQEN_HFIVYCK.wav', 'data/database/sag/sag_UQEN_XEJYVRO.wav', 'data/database/sag/sag_UQEN_ASNVZWT.wav', 'data/database/sag/sag_UQEN_XJUWDRG.wav', 'data/database/sol/sol_UQEN_QUYCPRZ.wav', 'data/database/sol/sol_UQEN_DVMWZCK.wav', 'data/database/sol/sol_UQEN_SAJFBDL.wav', 'data/database/sol/sol_UQEN_CILPNXJ.wav', 'data/database/sol/sol_UQEN_GNDLWKC.wav', 'data/database/sol/sol_UQEN_UHVGMKP.wav', 'data/database/sol/sol_UQEN_PRHYBZS.wav', 'data/database/sol/sol_UQEN_DNCGKRW.wav', 'data/database/sol/sol_UQEN_XKOVBWJ.wav', 'data/database/yukari/yukari_UQEN_QISRFED.wav', 'data/database/yukari/yukari_UQEN_JULOXWQ.wav', 'data/database/yukari/yukari_UQEN_ASXLDWK.wav', 'data/database/yukari/yukari_UQEN_HXWNFZQ.wav', 'data/database/yukari/yukari_UQEN_LORTUSJ.wav', 'data/database/yukari/yukari_UQEN_ZOBKSNH.wav', 'data/database/yukari/yukari_UQEN_GVFQWOI.wav', 'data/database/yukari/yukari_UQEN_CDGVNSB.wav', 'data/database/yukari/yukari_UQEN_PYNLRCT.wav', 'data/database/ileri/ileri_UQEN_JUKZVMA.wav', 'data/database/ileri/ileri_UQEN_PNCIKAX.wav', 'data/database/ileri/ileri_UQEN_UJMWKDQ.wav', 'data/database/ileri/ileri_UQEN_TSFJWZC.wav', 'data/database/ileri/ileri_UQEN_DGICYNX.wav', 'data/database/ileri/ileri_UQEN_HVCGFTI.wav', 'data/database/ileri/ileri_UQEN_SQVCWAE.wav', 'data/database/ileri/ileri_UQEN_SPTRVBD.wav', 'data/database/ileri/ileri_UQEN_CJLMSXO.wav', 'data/database/iptal/iptal_UQEN_KHYZTJE.wav', 'data/database/iptal/iptal_UQEN_DSACEMY.wav', 'data/database/iptal/iptal_UQEN_XWIJBKN.wav', 'data/database/iptal/iptal_UQEN_OQPHDZW.wav', 'data/database/iptal/iptal_UQEN_HUJKLPB.wav', 'data/database/iptal/iptal_UQEN_LWKRGPH.wav', 'data/database/iptal/iptal_UQEN_CRJPYKX.wav', 'data/database/iptal/iptal_UQEN_GXNVLYO.wav', 'data/database/iptal/iptal_UQEN_FMKNWUG.wav', 'data/database/ac/ac_IZDT_UMJWZHI.wav', 'data/database/ac/ac_IZDT_TDUOSBP.wav', 'data/database/asagi/asagi_IZDT_IMBDVLZ.wav', 'data/database/asagi/asagi_IZDT_IMBCHXY.wav', 'data/database/baslat/baslat_IZDT_AJKWGBI.wav', 'data/database/baslat/baslat_IZDT_DZRPLSN.wav', 'data/database/devam/devam_IZDT_KZPAGJY.wav', 'data/database/devam/devam_IZDT_VUGYDEJ.wav', 'data/database/dur/dur_IZDT_XPROFHS.wav', 'data/database/dur/dur_IZDT_NBOXKUD.wav', 'data/database/evet/evet_IZDT_YZXIMEQ.wav', 'data/database/evet/evet_IZDT_IRMUWPY.wav', 'data/database/geri/geri_IZDT_KBNWXRZ.wav', 'data/database/geri/geri_IZDT_ONHMXGT.wav', 'data/database/hayir/hayir_IZDT_XVAEWIG.wav', 'data/database/hayir/hayir_IZDT_ALEGSTC.wav', 'data/database/kapa/kapa_IZDT_YEZPICM.wav', 'data/database/kapa/kapa_IZDT_WCBOKIZ.wav', 'data/database/sag/sag_IZDT_KVSBOGE.wav', 'data/database/sol/sol_IZDT_QMEVLIA.wav', 'data/database/sol/sol_IZDT_HBTPZOV.wav', 'data/database/yukari/yukari_IZDT_VKMPWZD.wav', 'data/database/yukari/yukari_IZDT_BDMQZSJ.wav', 'data/database/ileri/ileri_IZDT_YLQARWZ.wav', 'data/database/ileri/ileri_IZDT_HKUPQNY.wav', 'data/database/iptal/iptal_IZDT_VKCLRJO.wav', 'data/database/iptal/iptal_IZDT_SHZATIO.wav', 'data/database/iptal/iptal_IZDT_TIJPKBF.wav', 'data/database/ac/ac_XRJO_HREDTYI.wav', 'data/database/ac/ac_XRJO_LZBFIEJ.wav', 'data/database/ac/ac_XRJO_VSBAETN.wav', 'data/database/ac/ac_XRJO_FJXVZPC.wav', 'data/database/ac/ac_XRJO_KBFAOPU.wav', 'data/database/ac/ac_XRJO_PGODWTC.wav', 'data/database/ac/ac_XRJO_QCVWZNK.wav', 'data/database/ac/ac_XRJO_RAUOMGF.wav', 'data/database/ac/ac_XRJO_YDFKWQV.wav', 'data/database/asagi/asagi_XRJO_PHOYENJ.wav', 'data/database/asagi/asagi_XRJO_QSGHTUC.wav', 'data/database/asagi/asagi_XRJO_KUMJYXZ.wav', 'data/database/asagi/asagi_XRJO_MRGEVSK.wav', 'data/database/asagi/asagi_XRJO_QGBVZJR.wav', 'data/database/asagi/asagi_XRJO_KIEWZOH.wav', 'data/database/asagi/asagi_XRJO_SVHRCOQ.wav', 'data/database/baslat/baslat_XRJO_XAUHCDN.wav', 'data/database/baslat/baslat_XRJO_RUKEQOM.wav', 'data/database/baslat/baslat_XRJO_AYHTPRM.wav', 'data/database/baslat/baslat_XRJO_FDMQBUX.wav', 'data/database/baslat/baslat_XRJO_AJXYCGL.wav', 'data/database/baslat/baslat_XRJO_TYJELBI.wav', 'data/database/baslat/baslat_XRJO_XEGIAPD.wav', 'data/database/baslat/baslat_XRJO_WBJHRSI.wav', 'data/database/devam/devam_XRJO_BVHNWMQ.wav', 'data/database/devam/devam_XRJO_HEWGAYD.wav', 'data/database/devam/devam_XRJO_TYGJFHS.wav', 'data/database/devam/devam_XRJO_VEWUFJY.wav', 'data/database/devam/devam_XRJO_HUVJOZB.wav', 'data/database/devam/devam_XRJO_DVFBNQJ.wav', 'data/database/devam/devam_XRJO_RZSWEJG.wav', 'data/database/devam/devam_XRJO_GJWMOTL.wav', 'data/database/dur/dur_XRJO_SDVLAYT.wav', 'data/database/dur/dur_XRJO_CKVHSJM.wav', 'data/database/dur/dur_XRJO_SOPIMQU.wav', 'data/database/dur/dur_XRJO_STDYFGJ.wav', 'data/database/dur/dur_XRJO_HKREDXB.wav', 'data/database/dur/dur_XRJO_HEUWPDO.wav', 'data/database/dur/dur_XRJO_LAIXERH.wav', 'data/database/dur/dur_XRJO_UPRFNMT.wav', 'data/database/evet/evet_XRJO_YHJSWOK.wav', 'data/database/evet/evet_XRJO_SQBRPLN.wav', 'data/database/evet/evet_XRJO_DXBGZCS.wav', 'data/database/evet/evet_XRJO_XGCEIAD.wav', 'data/database/evet/evet_XRJO_QUTJCKD.wav', 'data/database/evet/evet_XRJO_HJZKXRE.wav', 'data/database/evet/evet_XRJO_OCZUHGV.wav', 'data/database/evet/evet_XRJO_GMYCXWS.wav', 'data/database/geri/geri_XRJO_MBNQZOK.wav', 'data/database/geri/geri_XRJO_RCJZGBD.wav', 'data/database/geri/geri_XRJO_BCOERKH.wav', 'data/database/geri/geri_XRJO_ZWNCULY.wav', 'data/database/geri/geri_XRJO_YVCONIW.wav', 'data/database/geri/geri_XRJO_GHPRXJW.wav', 'data/database/geri/geri_XRJO_XBKZFRY.wav', 'data/database/geri/geri_XRJO_XYARNTE.wav', 'data/database/hayir/hayir_XRJO_TAMQZRJ.wav', 'data/database/hayir/hayir_XRJO_MUBNTVQ.wav', 'data/database/hayir/hayir_XRJO_KMOWHVL.wav', 'data/database/hayir/hayir_XRJO_KCJBUNA.wav', 'data/database/hayir/hayir_XRJO_WDUKVLM.wav', 'data/database/hayir/hayir_XRJO_QGMRJTX.wav', 'data/database/hayir/hayir_XRJO_EPMJCFZ.wav', 'data/database/hayir/hayir_XRJO_JKAZXMI.wav', 'data/database/hayir/hayir_XRJO_NFVBSUI.wav', 'data/database/ileri/ileri_XRJO_IVXFOBT.wav', 'data/database/ileri/ileri_XRJO_EKRSNDP.wav', 'data/database/ileri/ileri_XRJO_UFYLHEN.wav', 'data/database/ileri/ileri_XRJO_KDRQAHJ.wav', 'data/database/ileri/ileri_XRJO_RFIDQBE.wav', 'data/database/ileri/ileri_XRJO_CKDYEQT.wav', 'data/database/ileri/ileri_XRJO_DJIXVFR.wav', 'data/database/ileri/ileri_XRJO_GBUQWNZ.wav', 'data/database/iptal/iptal_XRJO_GFBPKNV.wav', 'data/database/iptal/iptal_XRJO_LKORVAF.wav', 'data/database/iptal/iptal_XRJO_YMUWDQO.wav', 'data/database/iptal/iptal_XRJO_QOSMVIP.wav', 'data/database/iptal/iptal_XRJO_EGLAHVD.wav', 'data/database/iptal/iptal_XRJO_WOTIDBQ.wav', 'data/database/iptal/iptal_XRJO_SGYZDLT.wav', 'data/database/iptal/iptal_XRJO_NPSRQVO.wav', 'data/database/iptal/iptal_XRJO_YILXAEW.wav', 'data/database/kapa/kapa_XRJO_XKDUIAC.wav', 'data/database/kapa/kapa_XRJO_TEXGVOM.wav', 'data/database/kapa/kapa_XRJO_NPGFEIJ.wav', 'data/database/kapa/kapa_XRJO_XCKUGBF.wav', 'data/database/kapa/kapa_XRJO_EGKOJIA.wav', 'data/database/kapa/kapa_XRJO_JCEBAMX.wav', 'data/database/kapa/kapa_XRJO_XPVJKRM.wav', 'data/test/3 (1).wav', 'data/test/4.wav', 'data/test/5.wav', 'data/test/6.wav', 'data/test/7.wav', 'data/test/8.wav', 'data/test/9.wav', 'data/test/10.wav', 'data/test/11.wav', 'data/test/12.wav', 'data/test/13.wav', 'data/test/14.wav', 'data/test/15.wav', 'data/test/16.wav', 'data/test/17.wav', 'data/test/18.wav', 'data/test/19.wav', 'data/test/20.wav', 'data/test/21.wav', 'data/test/22.wav', 'data/test/23.wav', 'data/test/24.wav', 'data/test/25.wav', 'data/test/26.wav', 'data/test/27.wav', 'data/test/28.wav', 'data/test/29.wav', 'data/test/30.wav', 'data/test/31.wav', 'data/test/32.wav', 'data/test/33.wav', 'data/test/34.wav', 'data/test/35.wav', 'data/test/36.wav', 'data/test/37.wav', 'data/test/38.wav', 'data/test/39.wav', 'data/test/40.wav', 'data/test/41.wav', 'data/test/42.wav', 'data/test/43.wav', 'data/test/44.wav', 'data/test/45.wav', 'data/test/46.wav', 'data/test/47.wav', 'data/test/48.wav', 'data/test/49.wav', 'data/test/50.wav', 'data/test/51.wav', 'data/test/52.wav', 'data/test/53.wav', 'data/test/54.wav', 'data/test/55.wav', 'data/test/56.wav', 'data/test/57.wav', 'data/test/58.wav', 'data/test/59.wav', 'data/test/60.wav', 'data/test/61.wav', 'data/test/62.wav', 'data/test/63.wav', 'data/test/64.wav', 'data/test/65.wav', 'data/test/66.wav', 'data/test/67.wav', 'data/test/68.wav', 'data/test/69.wav', 'data/test/70.wav', 'data/test/71.wav', 'data/test/72.wav', 'data/test/73.wav', 'data/test/74.wav', 'data/test/75.wav', 'data/test/76.wav', 'data/test/77.wav', 'data/test/78.wav', 'data/test/79.wav', 'data/test/80.wav', 'data/test/81.wav', 'data/test/82.wav', 'data/test/83.wav', 'data/test/84.wav', 'data/test/85.wav', 'data/test/86.wav', 'data/test/87.wav', 'data/test/88.wav', 'data/test/89.wav', 'data/test/90.wav', 'data/test/91.wav', 'data/database/ac/ac_BMTO_YXZISBU.wav', 'data/database/ac/ac_BMTO_PVWUCAT.wav', 'data/database/ac/ac_BMTO_PSBHMJZ.wav', 'data/database/ac/ac_BMTO_AZEBNWT.wav', 'data/database/ac/ac_BMTO_GLCQDEF.wav', 'data/database/ac/ac_BMTO_TDUERBJ.wav', 'data/database/asagi/asagi_BMTO_QWIKAVD.wav', 'data/database/asagi/asagi_BMTO_ZGHDIBW.wav', 'data/database/asagi/asagi_BMTO_DSWIFUE.wav', 'data/database/asagi/asagi_BMTO_YZKPSVF.wav', 'data/database/asagi/asagi_BMTO_FCXYNWJ.wav', 'data/database/asagi/asagi_BMTO_JNDLARZ.wav', 'data/database/baslat/baslat_BMTO_JOCTPSN.wav', 'data/database/baslat/baslat_BMTO_XRTFDNK.wav', 'data/database/baslat/baslat_BMTO_KJFBMUQ.wav', 'data/database/baslat/baslat_BMTO_ELTRMYP.wav', 'data/database/baslat/baslat_BMTO_ZHQEXCN.wav', 'data/database/baslat/baslat_BMTO_QGRMEPD.wav', 'data/database/devam/devam_BMTO_UWMNEGH.wav', 'data/database/devam/devam_BMTO_ADSGUIW.wav', 'data/database/devam/devam_BMTO_ICSQRBE.wav', 'data/database/devam/devam_BMTO_QFKGPUH.wav', 'data/database/devam/devam_BMTO_ZKLBPQN.wav', 'data/database/dur/dur_BMTO_KUVREPY.wav', 'data/database/dur/dur_BMTO_FBASWZN.wav', 'data/database/dur/dur_BMTO_FNPDQXR.wav', 'data/database/dur/dur_BMTO_DIHUVEP.wav', 'data/database/dur/dur_BMTO_CYOPESW.wav', 'data/database/dur/dur_BMTO_FBSWQDP.wav', 'data/database/evet/evet_BMTO_IGCVWOZ.wav', 'data/database/evet/evet_BMTO_TAWXMPC.wav', 'data/database/evet/evet_BMTO_LYNUKMV.wav', 'data/database/evet/evet_BMTO_MDRFBTJ.wav', 'data/database/geri/geri_BMTO_RXLKAMS.wav', 'data/database/geri/geri_BMTO_KTCQMXU.wav', 'data/database/geri/geri_BMTO_QZROIGD.wav', 'data/database/geri/geri_BMTO_ITWKFOJ.wav', 'data/database/geri/geri_BMTO_MTLEXSU.wav', 'data/database/geri/geri_BMTO_ADNHCTG.wav', 'data/database/hayir/hayir_BMTO_VXIYGMJ.wav', 'data/database/hayir/hayir_BMTO_DWZTXEV.wav', 'data/database/hayir/hayir_BMTO_XYIJNQO.wav', 'data/database/hayir/hayir_BMTO_FYKHXDV.wav', 'data/database/hayir/hayir_BMTO_RQFSPJW.wav', 'data/database/hayir/hayir_BMTO_YITMHAK.wav', 'data/database/kapa/kapa_BMTO_QYPIDTN.wav', 'data/database/kapa/kapa_BMTO_ARFXOST.wav', 'data/database/kapa/kapa_BMTO_LXORSUA.wav', 'data/database/kapa/kapa_BMTO_XNYDJKI.wav', 'data/database/kapa/kapa_BMTO_OYPNBEL.wav', 'data/database/sag/sag_BMTO_WEKJVOD.wav', 'data/database/sag/sag_BMTO_LPADUZY.wav', 'data/database/sag/sag_BMTO_ZFOMVQU.wav', 'data/database/sag/sag_BMTO_JENGIVC.wav', 'data/database/sag/sag_BMTO_DBWLHCJ.wav', 'data/database/sol/sol_BMTO_GVMFQNB.wav', 'data/database/sol/sol_BMTO_JTIOSDC.wav', 'data/database/sol/sol_BMTO_NFUEIPM.wav', 'data/database/sol/sol_BMTO_WHLIBVX.wav', 'data/database/sol/sol_BMTO_EGUCRLT.wav', 'data/database/sol/sol_BMTO_DNZGMCF.wav', 'data/database/yukari/yukari_BMTO_TWINOUJ.wav', 'data/database/yukari/yukari_BMTO_EFAQWGS.wav', 'data/database/yukari/yukari_BMTO_QFDNBVE.wav', 'data/database/yukari/yukari_BMTO_OFLCSGM.wav', 'data/database/yukari/yukari_BMTO_DMAQETW.wav', 'data/database/evet/evet_BMTO_BIULRGX.wav', 'data/database/evet/evet_BMTO_UOLNGJM.wav', 'data/database/ileri/ileri_BMTO_QERMLFH.wav', 'data/database/ileri/ileri_BMTO_JWNSUOD.wav', 'data/database/ileri/ileri_BMTO_TJNYXDP.wav', 'data/database/ileri/ileri_BMTO_EOUTIKL.wav', 'data/database/ileri/ileri_BMTO_VOEICWA.wav', 'data/database/ileri/ileri_BMTO_IVHXYMN.wav', 'data/database/iptal/iptal_BMTO_SJKFZOW.wav', 'data/database/iptal/iptal_BMTO_YQIFKEP.wav', 'data/database/iptal/iptal_BMTO_ITGCMBY.wav', 'data/database/iptal/iptal_BMTO_DSYKBOI.wav', 'data/database/iptal/iptal_BMTO_HLYFRTE.wav', 'data/database/iptal/iptal_BMTO_PHYBDLE.wav', 'data/database/sag/sag_BMTO_PWTQZHR.wav', 'data/database/ac/ac_SMVO_LYPUDTH.wav', 'data/database/ac/ac_SMVO_JYOSWEG.wav', 'data/database/ac/ac_SMVO_UCSYRXI.wav', 'unsounds/human_voice_1.wav', 'unsounds/human_voice_2.wav', 'unsounds/human_voice_3.wav', 'unsounds/human_voice_4.wav', 'unsounds/human_voice_5.wav', 'unsounds/human_voice_6.wav', 'unsounds/human_voice_7.wav', 'unsounds/human_voice_8.wav', 'unsounds/human_voice_9.wav', 'unsounds/human_voice_10.wav', 'unsounds/human_voice_11.wav', 'unsounds/human_voice_12.wav', 'unsounds/human_voice_13.wav', 'unsounds/human_voice_14.wav', 'unsounds/human_voice_15.wav', 'unsounds/human_voice_16.wav', 'unsounds/human_voice_17.wav', 'unsounds/human_voice_18.wav', 'unsounds/human_voice_19.wav', 'unsounds/human_voice_20.wav', 'unsounds/human_voice_21.wav', 'unsounds/human_voice_22.wav', 'unsounds/human_voice_23.wav', 'unsounds/human_voice_24.wav', 'unsounds/human_voice_25.wav', 'unsounds/human_voice_26.wav', 'unsounds/human_voice_27.wav', 'unsounds/human_voice_28.wav', 'unsounds/human_voice_29.wav', 'unsounds/human_voice_30.wav', 'unsounds/human_voice_31.wav', 'unsounds/human_voice_32.wav', 'unsounds/human_voice_33.wav', 'unsounds/human_voice_34.wav', 'unsounds/human_voice_35.wav', 'unsounds/human_voice_36.wav', 'unsounds/human_voice_37.wav', 'unsounds/human_voice_38.wav', 'unsounds/human_voice_39.wav', 'unsounds/human_voice_40.wav', 'unsounds/human_voice_41.wav', 'unsounds/human_voice_42.wav', 'unsounds/human_voice_43.wav', 'unsounds/human_voice_44.wav', 'unsounds/human_voice_45.wav', 'unsounds/human_voice_46.wav', 'unsounds/human_voice_47.wav', 'unsounds/human_voice_48.wav', 'unsounds/human_voice_49.wav', 'unsounds/human_voice_50.wav', 'unsounds/human_voice_51.wav', 'unsounds/human_voice_52.wav', 'unsounds/human_voice_53.wav', 'unsounds/human_voice_54.wav', 'unsounds/human_voice_55.wav', 'unsounds/human_voice_56.wav', 'unsounds/human_voice_57.wav', 'unsounds/human_voice_58.wav', 'unsounds/human_voice_59.wav', 'unsounds/human_voice_60.wav', 'unsounds/human_voice_61.wav', 'unsounds/human_voice_62.wav', 'unsounds/human_voice_63.wav', 'unsounds/human_voice_64.wav', 'unsounds/human_voice_65.wav', 'unsounds/human_voice_66.wav', 'unsounds/human_voice_67.wav', 'unsounds/human_voice_68.wav', 'unsounds/human_voice_69.wav', 'unsounds/human_voice_70.wav', 'unsounds/human_voice_71.wav', 'unsounds/human_voice_72.wav', 'unsounds/human_voice_73.wav', 'unsounds/human_voice_74.wav', 'unsounds/human_voice_75.wav', 'unsounds/human_voice_76.wav', 'unsounds/human_voice_77.wav', 'unsounds/human_voice_78.wav', 'unsounds/human_voice_79.wav', 'unsounds/human_voice_80.wav', 'unsounds/human_voice_81.wav', 'unsounds/human_voice_82.wav', 'unsounds/human_voice_83.wav', 'unsounds/human_voice_84.wav', 'unsounds/human_voice_85.wav', 'unsounds/human_voice_86.wav', 'unsounds/human_voice_87.wav', 'unsounds/human_voice_88.wav', 'unsounds/human_voice_89.wav', 'unsounds/human_voice_90.wav', 'unsounds/human_voice_91.wav', 'unsounds/human_voice_92.wav', 'unsounds/human_voice_93.wav', 'unsounds/human_voice_94.wav', 'unsounds/human_voice_95.wav', 'unsounds/human_voice_96.wav', 'unsounds/human_voice_97.wav', 'unsounds/human_voice_98.wav', 'unsounds/human_voice_99.wav', 'unsounds/human_voice_100.wav']\n"
     ]
    }
   ],
   "source": [
    "label_ali = \"ali\"\n",
    "labels_ali = [label_ali] * len(paths)\n",
    "\n",
    "unknown_labels = [\"unknown\"] * (len(unknown_file_paths) + len(paths_unknown_human_voices))\n",
    "labels_all = labels_sample + labels_ali + unknown_labels\n",
    "\n",
    "# unwanted_keywords = [\"XRJO\"]\n",
    "\n",
    "audio_paths_new_unknown = [f\"{path}{str(identifier)}.wav\" for path, identifier in zip(unknown_file_paths, id_sample_unknown)]\n",
    "\n",
    "audio_paths_new = [f\"{path}{str(identifier)}.wav\" for path, identifier in zip(file_paths_sample, id_sample)]\n",
    "# filtered_audio_paths_unknown = [path for path in audio_paths_new_unknown if not any(keyword in path for keyword in unwanted_keywords)]\n",
    "audio_paths_all = audio_paths_new + paths + audio_paths_new_unknown + paths_unknown_human_voices\n",
    "\n",
    "audio_paths_np = np.array(audio_paths_all).reshape(-1, 1)\n",
    "\n",
    "ros = RandomOverSampler(random_state=42)\n",
    "X_balanced, y_balanced = ros.fit_resample(audio_paths_np, labels_all)\n",
    "\n",
    "print(Counter(y_balanced))\n",
    "print(audio_paths_all)\n",
    "\n",
    "# UXOD HBXT NUID IQMH IRVN TVYM YQXI TPBL EMCL DMLN UQEN IZDT XRJO"
   ]
  },
  {
   "cell_type": "code",
   "execution_count": 6,
   "id": "739846693fb70a11",
   "metadata": {
    "ExecuteTime": {
     "end_time": "2025-06-03T16:53:55.360296Z",
     "start_time": "2025-06-03T16:51:53.571868Z"
    }
   },
   "outputs": [],
   "source": [
    "def add_noise(audio, noise_level=0.005):\n",
    "    noise = np.random.randn(len(audio)) * noise_level\n",
    "    return audio + noise\n",
    "\n",
    "# def time_stretch(audio):\n",
    "#     return librosa.effects.time_stretch(audio, rate=0.9)\n",
    "# \n",
    "# def pitch_shift(audio, sample_rate, n_steps=2):\n",
    "#     return librosa.effects.pitch_shift(audio, sr=sample_rate, n_steps=n_steps)\n",
    "# \n",
    "# def time_shift(audio, shift_max=0.1):\n",
    "#     shift = np.random.randint(int(-shift_max * len(audio)), int(shift_max * len(audio)))\n",
    "#     return np.roll(audio, shift)\n",
    "\n",
    "features_for_anomaly = []\n",
    "def extract_features(file_path, sample_rate=16000, augment=False):\n",
    "    try:\n",
    "        if isinstance(file_path, np.ndarray):\n",
    "            file_path = file_path.item()\n",
    "            \n",
    "        audio, _ = librosa.load(file_path, sr=sample_rate)\n",
    "        augmented_audio = [audio]  \n",
    "\n",
    "        if augment:\n",
    "            augmented_audio.append(add_noise(audio))  \n",
    "            # augmented_audio.append(time_stretch(audio))\n",
    "            # augmented_audio.append(time_shift(audio))\n",
    "            # augmented_audio.append(pitch_shift(audio, sample_rate, n_steps=np.random.randint(-3, 3)))    \n",
    "\n",
    "        all_features = []\n",
    "\n",
    "        for aug_audio in augmented_audio:\n",
    "            mfcc = librosa.feature.mfcc(y=aug_audio, sr=sample_rate, n_mfcc=45)\n",
    "\n",
    "            spectral_centroid = librosa.feature.spectral_centroid(y=aug_audio, sr=sample_rate)\n",
    "\n",
    "            zcr = librosa.feature.zero_crossing_rate(y=aug_audio)\n",
    "            \n",
    "            mel_spec = librosa.feature.melspectrogram(y=audio, sr=sample_rate)\n",
    "            mel_spec_db = librosa.power_to_db(mel_spec, ref=np.max) \n",
    "\n",
    "            features = np.hstack([\n",
    "                np.mean(mfcc.T, axis=0),\n",
    "                np.mean(spectral_centroid),\n",
    "                np.mean(zcr),                       \n",
    "                np.mean(mel_spec_db)\n",
    "            ])\n",
    "            all_features.append(features)\n",
    "            features_for_anomaly.append(features)\n",
    "\n",
    "        return all_features\n",
    "\n",
    "    except Exception as e:\n",
    "        print(f\"Özellik çıkarımı sırasında hata oluştu: {e}\")\n",
    "        return None\n",
    "\n",
    "if isinstance(X_balanced, np.ndarray):\n",
    "    X_balanced = X_balanced.tolist()\n",
    "\n",
    "if isinstance(y_balanced, np.ndarray):  \n",
    "    y_balanced = y_balanced.tolist()\n",
    "\n",
    "X_features = []\n",
    "y_final = []\n",
    "\n",
    "for idx, path in enumerate(X_balanced):\n",
    "    features_list = extract_features(path[0], augment=True)\n",
    "\n",
    "    if features_list is not None:\n",
    "        for features in features_list:\n",
    "            X_features.append(features)\n",
    "            y_final.append(y_balanced[idx])  \n",
    "\n",
    "X_features = np.array(X_features)\n",
    "y_final = np.array(y_final)\n"
   ]
  },
  {
   "cell_type": "code",
   "execution_count": 7,
   "id": "2035f7c647134d7d",
   "metadata": {
    "ExecuteTime": {
     "end_time": "2025-06-03T16:53:58.598234Z",
     "start_time": "2025-06-03T16:53:58.369318Z"
    }
   },
   "outputs": [
    {
     "name": "stdout",
     "output_type": "stream",
     "text": [
      "audio.wav normal bir ses.\n"
     ]
    }
   ],
   "source": [
    "iso_forest = IsolationForest(contamination=\"auto\", random_state=42)\n",
    "iso_forest.fit(np.array(features_for_anomaly))\n",
    "\n",
    "test_file = \"audio.wav\"\n",
    "test_features = np.array(extract_features(test_file)).reshape(1, -1)\n",
    "\n",
    "score = iso_forest.decision_function(test_features)\n",
    "prediction = iso_forest.predict(test_features)\n",
    "\n",
    "if prediction[0] == -1:\n",
    "    print(f\"{test_file} anormal bir ses içeriyor!\")\n",
    "else:\n",
    "    print(f\"{test_file} normal bir ses.\")\n"
   ]
  },
  {
   "cell_type": "code",
   "execution_count": 8,
   "id": "ce3715bb392c4b93",
   "metadata": {
    "ExecuteTime": {
     "end_time": "2025-06-03T16:54:00.845769Z",
     "start_time": "2025-06-03T16:54:00.791911Z"
    }
   },
   "outputs": [
    {
     "name": "stdout",
     "output_type": "stream",
     "text": [
      "Model başarıyla kaydedildi!\n"
     ]
    }
   ],
   "source": [
    "joblib.dump(iso_forest, \"anomaly_agent/anomaly_agent.pkl\")\n",
    "print(\"Model başarıyla kaydedildi!\")"
   ]
  },
  {
   "cell_type": "code",
   "execution_count": 9,
   "id": "4b74600d503629d8",
   "metadata": {
    "ExecuteTime": {
     "end_time": "2025-06-03T16:54:02.446389Z",
     "start_time": "2025-06-03T16:54:02.435322Z"
    }
   },
   "outputs": [],
   "source": [
    "def create_model(input_shape, output_shape):    \n",
    "    model = Sequential([\n",
    "        Input(shape=(input_shape, 1)),\n",
    "\n",
    "        Conv1D(64, kernel_size=5, activation='relu', padding='same'),\n",
    "        BatchNormalization(),\n",
    "        MaxPooling1D(pool_size=2),\n",
    "        Dropout(0.3),\n",
    "\n",
    "        Conv1D(128, kernel_size=5, activation='relu', padding='same'),\n",
    "        BatchNormalization(),\n",
    "        MaxPooling1D(pool_size=2),\n",
    "        Dropout(0.3),\n",
    "\n",
    "        Conv1D(256, kernel_size=3, activation='relu', padding='same'),\n",
    "        BatchNormalization(),\n",
    "        MaxPooling1D(pool_size=2),\n",
    "        Dropout(0.3),\n",
    "\n",
    "        Conv1D(512, kernel_size=3, activation='relu', padding='same'),\n",
    "        BatchNormalization(),\n",
    "        MaxPooling1D(pool_size=2),\n",
    "        Dropout(0.4),\n",
    "\n",
    "        GlobalAveragePooling1D(),  \n",
    "        Dense(256, activation='relu'),\n",
    "        Dropout(0.5),\n",
    "        Dense(output_shape, activation='softmax')\n",
    "    ])\n",
    "    \n",
    "    model.compile(optimizer='adam', loss='categorical_crossentropy', metrics=['accuracy'])\n",
    "    return model\n",
    "\n",
    "def train_model(X, y, k=4, \n",
    "                      model_save_path=\"models/modelV14/model_mk3.keras\",\n",
    "                      encoder_save_path=\"models/modelV14/label_encoder.pkl\",\n",
    "                      scaler_save_path=\"models/modelV14/scaler.pkl\"):\n",
    "\n",
    "    skf = StratifiedKFold(n_splits=k, shuffle=True, random_state=42)\n",
    "    fold_accuracies = []\n",
    "    best_accuracy = 0\n",
    "    best_model = None\n",
    "    best_label_encoder = None\n",
    "    best_scaler = None\n",
    "    best_y_test = None\n",
    "    best_y_pred = None\n",
    "    best_y_true_labels = None\n",
    "\n",
    "    for fold, (train_idx, test_idx) in enumerate(skf.split(X, y)):\n",
    "        print(f\"Fold {fold + 1}/{k}\")\n",
    "\n",
    "        X_train, X_test = X[train_idx], X[test_idx]\n",
    "        y_train, y_test = y[train_idx], y[test_idx]\n",
    "\n",
    "        label_encoder = LabelEncoder()\n",
    "        scaler = StandardScaler()\n",
    "\n",
    "        X_train = scaler.fit_transform(X_train)\n",
    "        X_test = scaler.transform(X_test)\n",
    "\n",
    "        y_train_encoded = to_categorical(label_encoder.fit_transform(y_train))\n",
    "        y_test_encoded = to_categorical(label_encoder.transform(y_test))\n",
    "\n",
    "        model = create_model(X_train.shape[1], len(label_encoder.classes_))\n",
    "\n",
    "        early_stopping = EarlyStopping(monitor='val_loss', patience=3, restore_best_weights=True)\n",
    "        reduce_lr = ReduceLROnPlateau(monitor='val_loss', factor=0.3, patience=3, min_lr=1e-6, verbose=1)\n",
    "\n",
    "        model.fit(\n",
    "            X_train, y_train_encoded,\n",
    "            validation_split=0.2,\n",
    "            epochs=50,\n",
    "            batch_size=32,\n",
    "            callbacks=[early_stopping, reduce_lr],\n",
    "            verbose=1\n",
    "        )\n",
    "\n",
    "        test_loss, test_accuracy = model.evaluate(X_test, y_test_encoded, verbose=0)\n",
    "        print(f\"Fold {fold + 1} Accuracy: {test_accuracy:.2f}\")\n",
    "        fold_accuracies.append(test_accuracy)\n",
    "        \n",
    "        if test_accuracy > best_accuracy:\n",
    "            best_accuracy = test_accuracy\n",
    "            best_model = model\n",
    "            best_label_encoder = label_encoder\n",
    "            best_scaler = scaler\n",
    "            best_y_test = y_test\n",
    "            best_y_true_labels = label_encoder.transform(y_test)\n",
    "            best_y_pred = model.predict(X_test[..., np.newaxis])\n",
    "\n",
    "    print(f\"Average K-Fold Accuracy: {np.mean(fold_accuracies):.2f}\")\n",
    "\n",
    "    if best_model:\n",
    "        best_model.save(model_save_path)\n",
    "        print(f\"En iyi model kaydedildi: {model_save_path}\")\n",
    "\n",
    "        joblib.dump(best_label_encoder, encoder_save_path)\n",
    "        print(f\"En iyi LabelEncoder kaydedildi: {encoder_save_path}\")\n",
    "\n",
    "        joblib.dump(best_scaler, scaler_save_path)\n",
    "        print(f\"En iyi Scaler kaydedildi: {scaler_save_path}\")\n",
    "        \n",
    "        y_pred_labels = np.argmax(best_y_pred, axis=1)\n",
    "        cm = confusion_matrix(best_y_true_labels, y_pred_labels)\n",
    "        disp = ConfusionMatrixDisplay(confusion_matrix=cm, display_labels=best_label_encoder.classes_)\n",
    "\n",
    "        plt.figure(figsize=(10, 8))\n",
    "        disp.plot(cmap=plt.cm.Blues, xticks_rotation=45)\n",
    "        plt.title(\"Confusion Matrix - En İyi Fold\")\n",
    "        plt.tight_layout()\n",
    "        plt.savefig(\"confusion_matrix.png\", dpi=300)\n",
    "        plt.close()\n",
    "        print(\"Confusion matrix PNG olarak kaydedildi: confusion_matrix.png\")\n"
   ]
  },
  {
   "cell_type": "code",
   "execution_count": 10,
   "id": "75c45089810ec76e",
   "metadata": {
    "ExecuteTime": {
     "end_time": "2025-06-03T16:55:58.754097Z",
     "start_time": "2025-06-03T16:54:06.563493Z"
    }
   },
   "outputs": [
    {
     "name": "stdout",
     "output_type": "stream",
     "text": [
      "Fold 1/4\n",
      "AttributeError: module 'ml_dtypes' has no attribute 'float8_e3m4'\n",
      "Epoch 1/50\n",
      "\u001b[1m104/104\u001b[0m \u001b[32m━━━━━━━━━━━━━━━━━━━━\u001b[0m\u001b[37m\u001b[0m \u001b[1m8s\u001b[0m 31ms/step - accuracy: 0.2723 - loss: 2.4923 - val_accuracy: 0.0580 - val_loss: 3.9553 - learning_rate: 0.0010\n",
      "Epoch 2/50\n",
      "\u001b[1m104/104\u001b[0m \u001b[32m━━━━━━━━━━━━━━━━━━━━\u001b[0m\u001b[37m\u001b[0m \u001b[1m3s\u001b[0m 26ms/step - accuracy: 0.7020 - loss: 0.9827 - val_accuracy: 0.0423 - val_loss: 5.0745 - learning_rate: 0.0010\n",
      "Epoch 3/50\n",
      "\u001b[1m104/104\u001b[0m \u001b[32m━━━━━━━━━━━━━━━━━━━━\u001b[0m\u001b[37m\u001b[0m \u001b[1m3s\u001b[0m 24ms/step - accuracy: 0.8196 - loss: 0.5680 - val_accuracy: 0.2476 - val_loss: 4.6697 - learning_rate: 0.0010\n",
      "Epoch 4/50\n",
      "\u001b[1m104/104\u001b[0m \u001b[32m━━━━━━━━━━━━━━━━━━━━\u001b[0m\u001b[37m\u001b[0m \u001b[1m3s\u001b[0m 24ms/step - accuracy: 0.8758 - loss: 0.3874 - val_accuracy: 0.5531 - val_loss: 1.5828 - learning_rate: 0.0010\n",
      "Epoch 5/50\n",
      "\u001b[1m104/104\u001b[0m \u001b[32m━━━━━━━━━━━━━━━━━━━━\u001b[0m\u001b[37m\u001b[0m \u001b[1m3s\u001b[0m 24ms/step - accuracy: 0.8888 - loss: 0.3282 - val_accuracy: 0.8527 - val_loss: 0.3713 - learning_rate: 0.0010\n",
      "Epoch 6/50\n",
      "\u001b[1m104/104\u001b[0m \u001b[32m━━━━━━━━━━━━━━━━━━━━\u001b[0m\u001b[37m\u001b[0m \u001b[1m4s\u001b[0m 37ms/step - accuracy: 0.9135 - loss: 0.2437 - val_accuracy: 0.9336 - val_loss: 0.1655 - learning_rate: 0.0010\n",
      "Epoch 7/50\n",
      "\u001b[1m104/104\u001b[0m \u001b[32m━━━━━━━━━━━━━━━━━━━━\u001b[0m\u001b[37m\u001b[0m \u001b[1m1s\u001b[0m 13ms/step - accuracy: 0.9411 - loss: 0.1701 - val_accuracy: 0.9819 - val_loss: 0.0726 - learning_rate: 0.0010\n",
      "Epoch 8/50\n",
      "\u001b[1m104/104\u001b[0m \u001b[32m━━━━━━━━━━━━━━━━━━━━\u001b[0m\u001b[37m\u001b[0m \u001b[1m2s\u001b[0m 15ms/step - accuracy: 0.9416 - loss: 0.1774 - val_accuracy: 0.9819 - val_loss: 0.0629 - learning_rate: 0.0010\n",
      "Epoch 9/50\n",
      "\u001b[1m104/104\u001b[0m \u001b[32m━━━━━━━━━━━━━━━━━━━━\u001b[0m\u001b[37m\u001b[0m \u001b[1m2s\u001b[0m 17ms/step - accuracy: 0.9635 - loss: 0.1137 - val_accuracy: 0.9928 - val_loss: 0.0258 - learning_rate: 0.0010\n",
      "Epoch 10/50\n",
      "\u001b[1m104/104\u001b[0m \u001b[32m━━━━━━━━━━━━━━━━━━━━\u001b[0m\u001b[37m\u001b[0m \u001b[1m1s\u001b[0m 13ms/step - accuracy: 0.9521 - loss: 0.1403 - val_accuracy: 0.9964 - val_loss: 0.0220 - learning_rate: 0.0010\n",
      "Epoch 11/50\n",
      "\u001b[1m104/104\u001b[0m \u001b[32m━━━━━━━━━━━━━━━━━━━━\u001b[0m\u001b[37m\u001b[0m \u001b[1m1s\u001b[0m 12ms/step - accuracy: 0.9679 - loss: 0.1090 - val_accuracy: 0.9940 - val_loss: 0.0208 - learning_rate: 0.0010\n",
      "Epoch 12/50\n",
      "\u001b[1m104/104\u001b[0m \u001b[32m━━━━━━━━━━━━━━━━━━━━\u001b[0m\u001b[37m\u001b[0m \u001b[1m1s\u001b[0m 13ms/step - accuracy: 0.9720 - loss: 0.0812 - val_accuracy: 0.9928 - val_loss: 0.0177 - learning_rate: 0.0010\n",
      "Epoch 13/50\n",
      "\u001b[1m104/104\u001b[0m \u001b[32m━━━━━━━━━━━━━━━━━━━━\u001b[0m\u001b[37m\u001b[0m \u001b[1m1s\u001b[0m 13ms/step - accuracy: 0.9796 - loss: 0.0703 - val_accuracy: 0.9758 - val_loss: 0.0660 - learning_rate: 0.0010\n",
      "Epoch 14/50\n",
      "\u001b[1m104/104\u001b[0m \u001b[32m━━━━━━━━━━━━━━━━━━━━\u001b[0m\u001b[37m\u001b[0m \u001b[1m1s\u001b[0m 14ms/step - accuracy: 0.9744 - loss: 0.0750 - val_accuracy: 0.9964 - val_loss: 0.0119 - learning_rate: 0.0010\n",
      "Epoch 15/50\n",
      "\u001b[1m104/104\u001b[0m \u001b[32m━━━━━━━━━━━━━━━━━━━━\u001b[0m\u001b[37m\u001b[0m \u001b[1m1s\u001b[0m 14ms/step - accuracy: 0.9809 - loss: 0.0593 - val_accuracy: 0.9952 - val_loss: 0.0147 - learning_rate: 0.0010\n",
      "Epoch 16/50\n",
      "\u001b[1m104/104\u001b[0m \u001b[32m━━━━━━━━━━━━━━━━━━━━\u001b[0m\u001b[37m\u001b[0m \u001b[1m1s\u001b[0m 13ms/step - accuracy: 0.9785 - loss: 0.0641 - val_accuracy: 0.9988 - val_loss: 0.0055 - learning_rate: 0.0010\n",
      "Epoch 17/50\n",
      "\u001b[1m104/104\u001b[0m \u001b[32m━━━━━━━━━━━━━━━━━━━━\u001b[0m\u001b[37m\u001b[0m \u001b[1m1s\u001b[0m 13ms/step - accuracy: 0.9809 - loss: 0.0554 - val_accuracy: 0.9976 - val_loss: 0.0072 - learning_rate: 0.0010\n",
      "Epoch 18/50\n",
      "\u001b[1m104/104\u001b[0m \u001b[32m━━━━━━━━━━━━━━━━━━━━\u001b[0m\u001b[37m\u001b[0m \u001b[1m1s\u001b[0m 13ms/step - accuracy: 0.9805 - loss: 0.0613 - val_accuracy: 0.9964 - val_loss: 0.0082 - learning_rate: 0.0010\n",
      "Epoch 19/50\n",
      "\u001b[1m104/104\u001b[0m \u001b[32m━━━━━━━━━━━━━━━━━━━━\u001b[0m\u001b[37m\u001b[0m \u001b[1m1s\u001b[0m 13ms/step - accuracy: 0.9781 - loss: 0.0755 - val_accuracy: 0.9988 - val_loss: 0.0032 - learning_rate: 0.0010\n",
      "Epoch 20/50\n",
      "\u001b[1m104/104\u001b[0m \u001b[32m━━━━━━━━━━━━━━━━━━━━\u001b[0m\u001b[37m\u001b[0m \u001b[1m1s\u001b[0m 13ms/step - accuracy: 0.9797 - loss: 0.0673 - val_accuracy: 0.9976 - val_loss: 0.0068 - learning_rate: 0.0010\n",
      "Epoch 21/50\n",
      "\u001b[1m104/104\u001b[0m \u001b[32m━━━━━━━━━━━━━━━━━━━━\u001b[0m\u001b[37m\u001b[0m \u001b[1m1s\u001b[0m 13ms/step - accuracy: 0.9840 - loss: 0.0476 - val_accuracy: 0.9928 - val_loss: 0.0180 - learning_rate: 0.0010\n",
      "Epoch 22/50\n",
      "\u001b[1m101/104\u001b[0m \u001b[32m━━━━━━━━━━━━━━━━━━━\u001b[0m\u001b[37m━\u001b[0m \u001b[1m0s\u001b[0m 13ms/step - accuracy: 0.9822 - loss: 0.0567\n",
      "Epoch 22: ReduceLROnPlateau reducing learning rate to 0.0003000000142492354.\n",
      "\u001b[1m104/104\u001b[0m \u001b[32m━━━━━━━━━━━━━━━━━━━━\u001b[0m\u001b[37m\u001b[0m \u001b[1m1s\u001b[0m 14ms/step - accuracy: 0.9822 - loss: 0.0568 - val_accuracy: 0.9976 - val_loss: 0.0122 - learning_rate: 0.0010\n",
      "Fold 1 Accuracy: 1.00\n",
      "\u001b[1m44/44\u001b[0m \u001b[32m━━━━━━━━━━━━━━━━━━━━\u001b[0m\u001b[37m\u001b[0m \u001b[1m0s\u001b[0m 7ms/step\n",
      "Fold 2/4\n",
      "Epoch 1/50\n",
      "\u001b[1m104/104\u001b[0m \u001b[32m━━━━━━━━━━━━━━━━━━━━\u001b[0m\u001b[37m\u001b[0m \u001b[1m3s\u001b[0m 15ms/step - accuracy: 0.2637 - loss: 2.5227 - val_accuracy: 0.1679 - val_loss: 4.0439 - learning_rate: 0.0010\n",
      "Epoch 2/50\n",
      "\u001b[1m104/104\u001b[0m \u001b[32m━━━━━━━━━━━━━━━━━━━━\u001b[0m\u001b[37m\u001b[0m \u001b[1m1s\u001b[0m 13ms/step - accuracy: 0.6721 - loss: 1.0517 - val_accuracy: 0.1353 - val_loss: 5.7287 - learning_rate: 0.0010\n",
      "Epoch 3/50\n",
      "\u001b[1m104/104\u001b[0m \u001b[32m━━━━━━━━━━━━━━━━━━━━\u001b[0m\u001b[37m\u001b[0m \u001b[1m1s\u001b[0m 13ms/step - accuracy: 0.8185 - loss: 0.5843 - val_accuracy: 0.2681 - val_loss: 3.8825 - learning_rate: 0.0010\n",
      "Epoch 4/50\n",
      "\u001b[1m104/104\u001b[0m \u001b[32m━━━━━━━━━━━━━━━━━━━━\u001b[0m\u001b[37m\u001b[0m \u001b[1m1s\u001b[0m 13ms/step - accuracy: 0.8648 - loss: 0.3986 - val_accuracy: 0.4577 - val_loss: 1.9593 - learning_rate: 0.0010\n",
      "Epoch 5/50\n",
      "\u001b[1m104/104\u001b[0m \u001b[32m━━━━━━━━━━━━━━━━━━━━\u001b[0m\u001b[37m\u001b[0m \u001b[1m1s\u001b[0m 14ms/step - accuracy: 0.8945 - loss: 0.3226 - val_accuracy: 0.7198 - val_loss: 0.7205 - learning_rate: 0.0010\n",
      "Epoch 6/50\n",
      "\u001b[1m104/104\u001b[0m \u001b[32m━━━━━━━━━━━━━━━━━━━━\u001b[0m\u001b[37m\u001b[0m \u001b[1m1s\u001b[0m 13ms/step - accuracy: 0.9213 - loss: 0.2413 - val_accuracy: 0.8756 - val_loss: 0.3328 - learning_rate: 0.0010\n",
      "Epoch 7/50\n",
      "\u001b[1m104/104\u001b[0m \u001b[32m━━━━━━━━━━━━━━━━━━━━\u001b[0m\u001b[37m\u001b[0m \u001b[1m1s\u001b[0m 13ms/step - accuracy: 0.9403 - loss: 0.1844 - val_accuracy: 0.9481 - val_loss: 0.1779 - learning_rate: 0.0010\n",
      "Epoch 8/50\n",
      "\u001b[1m104/104\u001b[0m \u001b[32m━━━━━━━━━━━━━━━━━━━━\u001b[0m\u001b[37m\u001b[0m \u001b[1m1s\u001b[0m 13ms/step - accuracy: 0.9389 - loss: 0.1794 - val_accuracy: 0.9783 - val_loss: 0.0827 - learning_rate: 0.0010\n",
      "Epoch 9/50\n",
      "\u001b[1m104/104\u001b[0m \u001b[32m━━━━━━━━━━━━━━━━━━━━\u001b[0m\u001b[37m\u001b[0m \u001b[1m1s\u001b[0m 13ms/step - accuracy: 0.9592 - loss: 0.1301 - val_accuracy: 0.9867 - val_loss: 0.0570 - learning_rate: 0.0010\n",
      "Epoch 10/50\n",
      "\u001b[1m104/104\u001b[0m \u001b[32m━━━━━━━━━━━━━━━━━━━━\u001b[0m\u001b[37m\u001b[0m \u001b[1m1s\u001b[0m 13ms/step - accuracy: 0.9594 - loss: 0.1168 - val_accuracy: 0.9976 - val_loss: 0.0197 - learning_rate: 0.0010\n",
      "Epoch 11/50\n",
      "\u001b[1m104/104\u001b[0m \u001b[32m━━━━━━━━━━━━━━━━━━━━\u001b[0m\u001b[37m\u001b[0m \u001b[1m3s\u001b[0m 13ms/step - accuracy: 0.9593 - loss: 0.1219 - val_accuracy: 0.9940 - val_loss: 0.0211 - learning_rate: 0.0010\n",
      "Epoch 12/50\n",
      "\u001b[1m104/104\u001b[0m \u001b[32m━━━━━━━━━━━━━━━━━━━━\u001b[0m\u001b[37m\u001b[0m \u001b[1m1s\u001b[0m 13ms/step - accuracy: 0.9713 - loss: 0.0931 - val_accuracy: 0.9952 - val_loss: 0.0173 - learning_rate: 0.0010\n",
      "Epoch 13/50\n",
      "\u001b[1m104/104\u001b[0m \u001b[32m━━━━━━━━━━━━━━━━━━━━\u001b[0m\u001b[37m\u001b[0m \u001b[1m1s\u001b[0m 13ms/step - accuracy: 0.9704 - loss: 0.0879 - val_accuracy: 0.9976 - val_loss: 0.0088 - learning_rate: 0.0010\n",
      "Epoch 14/50\n",
      "\u001b[1m104/104\u001b[0m \u001b[32m━━━━━━━━━━━━━━━━━━━━\u001b[0m\u001b[37m\u001b[0m \u001b[1m1s\u001b[0m 13ms/step - accuracy: 0.9771 - loss: 0.0649 - val_accuracy: 0.9952 - val_loss: 0.0181 - learning_rate: 0.0010\n",
      "Epoch 15/50\n",
      "\u001b[1m104/104\u001b[0m \u001b[32m━━━━━━━━━━━━━━━━━━━━\u001b[0m\u001b[37m\u001b[0m \u001b[1m1s\u001b[0m 13ms/step - accuracy: 0.9764 - loss: 0.0696 - val_accuracy: 0.9928 - val_loss: 0.0214 - learning_rate: 0.0010\n",
      "Epoch 16/50\n",
      "\u001b[1m103/104\u001b[0m \u001b[32m━━━━━━━━━━━━━━━━━━━\u001b[0m\u001b[37m━\u001b[0m \u001b[1m0s\u001b[0m 12ms/step - accuracy: 0.9755 - loss: 0.0594\n",
      "Epoch 16: ReduceLROnPlateau reducing learning rate to 0.0003000000142492354.\n",
      "\u001b[1m104/104\u001b[0m \u001b[32m━━━━━━━━━━━━━━━━━━━━\u001b[0m\u001b[37m\u001b[0m \u001b[1m1s\u001b[0m 13ms/step - accuracy: 0.9755 - loss: 0.0594 - val_accuracy: 0.9891 - val_loss: 0.0255 - learning_rate: 0.0010\n",
      "Fold 2 Accuracy: 0.99\n",
      "Fold 3/4\n",
      "Epoch 1/50\n",
      "\u001b[1m104/104\u001b[0m \u001b[32m━━━━━━━━━━━━━━━━━━━━\u001b[0m\u001b[37m\u001b[0m \u001b[1m3s\u001b[0m 15ms/step - accuracy: 0.2572 - loss: 2.5944 - val_accuracy: 0.1159 - val_loss: 4.1633 - learning_rate: 0.0010\n",
      "Epoch 2/50\n",
      "\u001b[1m104/104\u001b[0m \u001b[32m━━━━━━━━━━━━━━━━━━━━\u001b[0m\u001b[37m\u001b[0m \u001b[1m1s\u001b[0m 14ms/step - accuracy: 0.6921 - loss: 0.9721 - val_accuracy: 0.1159 - val_loss: 7.6855 - learning_rate: 0.0010\n",
      "Epoch 3/50\n",
      "\u001b[1m104/104\u001b[0m \u001b[32m━━━━━━━━━━━━━━━━━━━━\u001b[0m\u001b[37m\u001b[0m \u001b[1m2s\u001b[0m 14ms/step - accuracy: 0.8255 - loss: 0.6006 - val_accuracy: 0.1679 - val_loss: 5.4739 - learning_rate: 0.0010\n",
      "Epoch 4/50\n",
      "\u001b[1m104/104\u001b[0m \u001b[32m━━━━━━━━━━━━━━━━━━━━\u001b[0m\u001b[37m\u001b[0m \u001b[1m1s\u001b[0m 13ms/step - accuracy: 0.8686 - loss: 0.4195 - val_accuracy: 0.4771 - val_loss: 2.0627 - learning_rate: 0.0010\n",
      "Epoch 5/50\n",
      "\u001b[1m104/104\u001b[0m \u001b[32m━━━━━━━━━━━━━━━━━━━━\u001b[0m\u001b[37m\u001b[0m \u001b[1m1s\u001b[0m 14ms/step - accuracy: 0.9083 - loss: 0.2744 - val_accuracy: 0.7717 - val_loss: 0.6504 - learning_rate: 0.0010\n",
      "Epoch 6/50\n",
      "\u001b[1m104/104\u001b[0m \u001b[32m━━━━━━━━━━━━━━━━━━━━\u001b[0m\u001b[37m\u001b[0m \u001b[1m1s\u001b[0m 13ms/step - accuracy: 0.9305 - loss: 0.2163 - val_accuracy: 0.8732 - val_loss: 0.3661 - learning_rate: 0.0010\n",
      "Epoch 7/50\n",
      "\u001b[1m104/104\u001b[0m \u001b[32m━━━━━━━━━━━━━━━━━━━━\u001b[0m\u001b[37m\u001b[0m \u001b[1m1s\u001b[0m 13ms/step - accuracy: 0.9288 - loss: 0.2111 - val_accuracy: 0.9263 - val_loss: 0.2000 - learning_rate: 0.0010\n",
      "Epoch 8/50\n",
      "\u001b[1m104/104\u001b[0m \u001b[32m━━━━━━━━━━━━━━━━━━━━\u001b[0m\u001b[37m\u001b[0m \u001b[1m1s\u001b[0m 13ms/step - accuracy: 0.9465 - loss: 0.1552 - val_accuracy: 0.9336 - val_loss: 0.2209 - learning_rate: 0.0010\n",
      "Epoch 9/50\n",
      "\u001b[1m104/104\u001b[0m \u001b[32m━━━━━━━━━━━━━━━━━━━━\u001b[0m\u001b[37m\u001b[0m \u001b[1m1s\u001b[0m 12ms/step - accuracy: 0.9572 - loss: 0.1408 - val_accuracy: 0.9457 - val_loss: 0.1472 - learning_rate: 0.0010\n",
      "Epoch 10/50\n",
      "\u001b[1m104/104\u001b[0m \u001b[32m━━━━━━━━━━━━━━━━━━━━\u001b[0m\u001b[37m\u001b[0m \u001b[1m1s\u001b[0m 12ms/step - accuracy: 0.9668 - loss: 0.1052 - val_accuracy: 0.9577 - val_loss: 0.1143 - learning_rate: 0.0010\n",
      "Epoch 11/50\n",
      "\u001b[1m104/104\u001b[0m \u001b[32m━━━━━━━━━━━━━━━━━━━━\u001b[0m\u001b[37m\u001b[0m \u001b[1m1s\u001b[0m 12ms/step - accuracy: 0.9689 - loss: 0.0968 - val_accuracy: 0.9662 - val_loss: 0.1140 - learning_rate: 0.0010\n",
      "Epoch 12/50\n",
      "\u001b[1m104/104\u001b[0m \u001b[32m━━━━━━━━━━━━━━━━━━━━\u001b[0m\u001b[37m\u001b[0m \u001b[1m1s\u001b[0m 12ms/step - accuracy: 0.9720 - loss: 0.0877 - val_accuracy: 0.9541 - val_loss: 0.1146 - learning_rate: 0.0010\n",
      "Epoch 13/50\n",
      "\u001b[1m104/104\u001b[0m \u001b[32m━━━━━━━━━━━━━━━━━━━━\u001b[0m\u001b[37m\u001b[0m \u001b[1m1s\u001b[0m 12ms/step - accuracy: 0.9732 - loss: 0.0777 - val_accuracy: 0.9601 - val_loss: 0.1262 - learning_rate: 0.0010\n",
      "Epoch 14/50\n",
      "\u001b[1m104/104\u001b[0m \u001b[32m━━━━━━━━━━━━━━━━━━━━\u001b[0m\u001b[37m\u001b[0m \u001b[1m0s\u001b[0m 10ms/step - accuracy: 0.9767 - loss: 0.0671\n",
      "Epoch 14: ReduceLROnPlateau reducing learning rate to 0.0003000000142492354.\n",
      "\u001b[1m104/104\u001b[0m \u001b[32m━━━━━━━━━━━━━━━━━━━━\u001b[0m\u001b[37m\u001b[0m \u001b[1m1s\u001b[0m 12ms/step - accuracy: 0.9767 - loss: 0.0671 - val_accuracy: 0.9541 - val_loss: 0.2112 - learning_rate: 0.0010\n",
      "Fold 3 Accuracy: 0.98\n",
      "Fold 4/4\n",
      "Epoch 1/50\n",
      "\u001b[1m104/104\u001b[0m \u001b[32m━━━━━━━━━━━━━━━━━━━━\u001b[0m\u001b[37m\u001b[0m \u001b[1m4s\u001b[0m 15ms/step - accuracy: 0.2910 - loss: 2.4693 - val_accuracy: 0.1244 - val_loss: 4.5933 - learning_rate: 0.0010\n",
      "Epoch 2/50\n",
      "\u001b[1m104/104\u001b[0m \u001b[32m━━━━━━━━━━━━━━━━━━━━\u001b[0m\u001b[37m\u001b[0m \u001b[1m1s\u001b[0m 12ms/step - accuracy: 0.6772 - loss: 1.0427 - val_accuracy: 0.1244 - val_loss: 6.6056 - learning_rate: 0.0010\n",
      "Epoch 3/50\n",
      "\u001b[1m104/104\u001b[0m \u001b[32m━━━━━━━━━━━━━━━━━━━━\u001b[0m\u001b[37m\u001b[0m \u001b[1m1s\u001b[0m 12ms/step - accuracy: 0.8231 - loss: 0.5638 - val_accuracy: 0.1594 - val_loss: 6.0925 - learning_rate: 0.0010\n",
      "Epoch 4/50\n",
      "\u001b[1m104/104\u001b[0m \u001b[32m━━━━━━━━━━━━━━━━━━━━\u001b[0m\u001b[37m\u001b[0m \u001b[1m1s\u001b[0m 13ms/step - accuracy: 0.8711 - loss: 0.4163 - val_accuracy: 0.4686 - val_loss: 2.6882 - learning_rate: 0.0010\n",
      "Epoch 5/50\n",
      "\u001b[1m104/104\u001b[0m \u001b[32m━━━━━━━━━━━━━━━━━━━━\u001b[0m\u001b[37m\u001b[0m \u001b[1m1s\u001b[0m 13ms/step - accuracy: 0.9003 - loss: 0.3047 - val_accuracy: 0.7234 - val_loss: 0.8779 - learning_rate: 0.0010\n",
      "Epoch 6/50\n",
      "\u001b[1m104/104\u001b[0m \u001b[32m━━━━━━━━━━━━━━━━━━━━\u001b[0m\u001b[37m\u001b[0m \u001b[1m1s\u001b[0m 13ms/step - accuracy: 0.9318 - loss: 0.2203 - val_accuracy: 0.8611 - val_loss: 0.4024 - learning_rate: 0.0010\n",
      "Epoch 7/50\n",
      "\u001b[1m104/104\u001b[0m \u001b[32m━━━━━━━━━━━━━━━━━━━━\u001b[0m\u001b[37m\u001b[0m \u001b[1m1s\u001b[0m 12ms/step - accuracy: 0.9472 - loss: 0.1643 - val_accuracy: 0.9287 - val_loss: 0.1865 - learning_rate: 0.0010\n",
      "Epoch 8/50\n",
      "\u001b[1m104/104\u001b[0m \u001b[32m━━━━━━━━━━━━━━━━━━━━\u001b[0m\u001b[37m\u001b[0m \u001b[1m1s\u001b[0m 13ms/step - accuracy: 0.9441 - loss: 0.1523 - val_accuracy: 0.9469 - val_loss: 0.1466 - learning_rate: 0.0010\n",
      "Epoch 9/50\n",
      "\u001b[1m104/104\u001b[0m \u001b[32m━━━━━━━━━━━━━━━━━━━━\u001b[0m\u001b[37m\u001b[0m \u001b[1m1s\u001b[0m 13ms/step - accuracy: 0.9599 - loss: 0.1254 - val_accuracy: 0.9783 - val_loss: 0.0605 - learning_rate: 0.0010\n",
      "Epoch 10/50\n",
      "\u001b[1m104/104\u001b[0m \u001b[32m━━━━━━━━━━━━━━━━━━━━\u001b[0m\u001b[37m\u001b[0m \u001b[1m1s\u001b[0m 12ms/step - accuracy: 0.9579 - loss: 0.1301 - val_accuracy: 0.9589 - val_loss: 0.1118 - learning_rate: 0.0010\n",
      "Epoch 11/50\n",
      "\u001b[1m104/104\u001b[0m \u001b[32m━━━━━━━━━━━━━━━━━━━━\u001b[0m\u001b[37m\u001b[0m \u001b[1m1s\u001b[0m 13ms/step - accuracy: 0.9599 - loss: 0.1190 - val_accuracy: 0.9469 - val_loss: 0.1293 - learning_rate: 0.0010\n",
      "Epoch 12/50\n",
      "\u001b[1m102/104\u001b[0m \u001b[32m━━━━━━━━━━━━━━━━━━━\u001b[0m\u001b[37m━\u001b[0m \u001b[1m0s\u001b[0m 11ms/step - accuracy: 0.9656 - loss: 0.1208\n",
      "Epoch 12: ReduceLROnPlateau reducing learning rate to 0.0003000000142492354.\n",
      "\u001b[1m104/104\u001b[0m \u001b[32m━━━━━━━━━━━━━━━━━━━━\u001b[0m\u001b[37m\u001b[0m \u001b[1m1s\u001b[0m 13ms/step - accuracy: 0.9657 - loss: 0.1204 - val_accuracy: 0.9795 - val_loss: 0.0744 - learning_rate: 0.0010\n",
      "Fold 4 Accuracy: 0.98\n",
      "Average K-Fold Accuracy: 0.99\n",
      "En iyi model kaydedildi: models/modelV14/model_mk3.keras\n",
      "En iyi LabelEncoder kaydedildi: models/modelV14/label_encoder.pkl\n",
      "En iyi Scaler kaydedildi: models/modelV14/scaler.pkl\n",
      "Confusion matrix PNG olarak kaydedildi: confusion_matrix.png\n"
     ]
    },
    {
     "data": {
      "text/plain": [
       "<Figure size 1000x800 with 0 Axes>"
      ]
     },
     "metadata": {},
     "output_type": "display_data"
    }
   ],
   "source": [
    "train_model(X_features, y_final)"
   ]
  },
  {
   "cell_type": "code",
   "execution_count": 11,
   "id": "bd32982b45d41e7a",
   "metadata": {
    "ExecuteTime": {
     "end_time": "2025-04-19T11:46:32.334842Z",
     "start_time": "2025-04-19T11:46:32.323720Z"
    }
   },
   "outputs": [],
   "source": [
    "def predict_audio(file_path, \n",
    "                  model_path=\"models/modelV14/model_mk3.keras\", \n",
    "                  encoder_path=\"models/modelV14/label_encoder.pkl\", \n",
    "                  scaler_path=\"models/modelV14/scaler.pkl\", \n",
    "                  threshold=0.95):\n",
    "\n",
    "    model = load_model(model_path)\n",
    "    label_encoder = joblib.load(encoder_path)\n",
    "    scaler = joblib.load(scaler_path)\n",
    "\n",
    "    def extract_features(file_path, sample_rate=16000):\n",
    "        try:\n",
    "            audio, _ = librosa.load(file_path, sr=sample_rate)    \n",
    "            # **MFCC (40 boyut)**\n",
    "            mfcc = librosa.feature.mfcc(y=audio, sr=sample_rate, n_mfcc=45)\n",
    "            mfcc_mean = np.mean(mfcc.T, axis=0)  \n",
    "    \n",
    "            # **Spektral Centroid (1 boyut)**\n",
    "            spectral_centroid = librosa.feature.spectral_centroid(y=audio, sr=sample_rate)\n",
    "            spectral_centroid_mean = np.mean(spectral_centroid)\n",
    "    \n",
    "            # **Zero-Crossing Rate (1 boyut)**\n",
    "            zcr = librosa.feature.zero_crossing_rate(audio)\n",
    "            zcr_mean = np.mean(zcr)\n",
    "            \n",
    "            mel_spec = librosa.feature.melspectrogram(y=audio, sr=sample_rate)\n",
    "            mel_spec_db = librosa.power_to_db(mel_spec, ref=np.max) \n",
    "    \n",
    "            features = np.hstack([mfcc_mean, spectral_centroid_mean, zcr_mean, np.mean(mel_spec_db)])\n",
    "    \n",
    "            return features\n",
    "    \n",
    "        except Exception as e:\n",
    "            print(f\"⚠️ Hata oluştu: {e}\")\n",
    "            return None\n",
    "\n",
    "    features = extract_features(file_path)\n",
    "    if features is None:\n",
    "        return \"Özellik çıkarımı başarısız oldu.\"\n",
    "    \n",
    "    features = features.reshape(1, -1)  \n",
    "    features = scaler.transform(features)  \n",
    "\n",
    "\n",
    "    predictions = model.predict(features)\n",
    "    predicted_class = np.argmax(predictions, axis=1)  \n",
    "    predicted_prob = np.max(predictions)  \n",
    "\n",
    "    if predicted_prob < threshold:\n",
    "        return \"unknown\"\n",
    "    \n",
    "    label = label_encoder.inverse_transform(predicted_class)\n",
    "    return label[0]"
   ]
  },
  {
   "cell_type": "code",
   "execution_count": 21,
   "id": "8bffc6abbc532d99",
   "metadata": {
    "ExecuteTime": {
     "end_time": "2025-04-19T11:49:28.955192Z",
     "start_time": "2025-04-19T11:49:27.893631Z"
    }
   },
   "outputs": [
    {
     "name": "stdout",
     "output_type": "stream",
     "text": [
      "\u001b[1m1/1\u001b[0m \u001b[32m━━━━━━━━━━━━━━━━━━━━\u001b[0m\u001b[37m\u001b[0m \u001b[1m0s\u001b[0m 231ms/step\n",
      "Tahmin edilen etiket: ali\n"
     ]
    }
   ],
   "source": [
    "# UXOD HBXT NUID IQMH IRVN TVYM YQXI TPBL EMCL DMLN UQEN IZDT XRJO\n",
    "file_path = \"Kayıt+(54).wav\"  \n",
    "predicted_label = predict_audio(file_path)\n",
    "print(f\"Tahmin edilen etiket: {predicted_label}\")\n"
   ]
  },
  {
   "cell_type": "code",
   "execution_count": 48,
   "id": "6a2540746cbc11cd",
   "metadata": {
    "ExecuteTime": {
     "end_time": "2025-02-24T22:44:34.607990Z",
     "start_time": "2025-02-24T22:44:33.384697Z"
    }
   },
   "outputs": [
    {
     "name": "stdout",
     "output_type": "stream",
     "text": [
      "unsounds/human_voice_1.wav dosyası oluşturuldu.\n",
      "unsounds/human_voice_2.wav dosyası oluşturuldu.\n",
      "unsounds/human_voice_3.wav dosyası oluşturuldu.\n",
      "unsounds/human_voice_4.wav dosyası oluşturuldu.\n",
      "unsounds/human_voice_5.wav dosyası oluşturuldu.\n",
      "unsounds/human_voice_6.wav dosyası oluşturuldu.\n",
      "unsounds/human_voice_7.wav dosyası oluşturuldu.\n",
      "unsounds/human_voice_8.wav dosyası oluşturuldu.\n",
      "unsounds/human_voice_9.wav dosyası oluşturuldu.\n",
      "unsounds/human_voice_10.wav dosyası oluşturuldu.\n",
      "unsounds/human_voice_11.wav dosyası oluşturuldu.\n",
      "unsounds/human_voice_12.wav dosyası oluşturuldu.\n",
      "unsounds/human_voice_13.wav dosyası oluşturuldu.\n",
      "unsounds/human_voice_14.wav dosyası oluşturuldu.\n",
      "unsounds/human_voice_15.wav dosyası oluşturuldu.\n",
      "unsounds/human_voice_16.wav dosyası oluşturuldu.\n",
      "unsounds/human_voice_17.wav dosyası oluşturuldu.\n",
      "unsounds/human_voice_18.wav dosyası oluşturuldu.\n",
      "unsounds/human_voice_19.wav dosyası oluşturuldu.\n",
      "unsounds/human_voice_20.wav dosyası oluşturuldu.\n",
      "unsounds/human_voice_21.wav dosyası oluşturuldu.\n",
      "unsounds/human_voice_22.wav dosyası oluşturuldu.\n",
      "unsounds/human_voice_23.wav dosyası oluşturuldu.\n",
      "unsounds/human_voice_24.wav dosyası oluşturuldu.\n",
      "unsounds/human_voice_25.wav dosyası oluşturuldu.\n",
      "unsounds/human_voice_26.wav dosyası oluşturuldu.\n",
      "unsounds/human_voice_27.wav dosyası oluşturuldu.\n",
      "unsounds/human_voice_28.wav dosyası oluşturuldu.\n",
      "unsounds/human_voice_29.wav dosyası oluşturuldu.\n",
      "unsounds/human_voice_30.wav dosyası oluşturuldu.\n",
      "unsounds/human_voice_31.wav dosyası oluşturuldu.\n",
      "unsounds/human_voice_32.wav dosyası oluşturuldu.\n",
      "unsounds/human_voice_33.wav dosyası oluşturuldu.\n",
      "unsounds/human_voice_34.wav dosyası oluşturuldu.\n",
      "unsounds/human_voice_35.wav dosyası oluşturuldu.\n",
      "unsounds/human_voice_36.wav dosyası oluşturuldu.\n",
      "unsounds/human_voice_37.wav dosyası oluşturuldu.\n",
      "unsounds/human_voice_38.wav dosyası oluşturuldu.\n",
      "unsounds/human_voice_39.wav dosyası oluşturuldu.\n",
      "unsounds/human_voice_40.wav dosyası oluşturuldu.\n",
      "unsounds/human_voice_41.wav dosyası oluşturuldu.\n",
      "unsounds/human_voice_42.wav dosyası oluşturuldu.\n",
      "unsounds/human_voice_43.wav dosyası oluşturuldu.\n",
      "unsounds/human_voice_44.wav dosyası oluşturuldu.\n",
      "unsounds/human_voice_45.wav dosyası oluşturuldu.\n",
      "unsounds/human_voice_46.wav dosyası oluşturuldu.\n",
      "unsounds/human_voice_47.wav dosyası oluşturuldu.\n",
      "unsounds/human_voice_48.wav dosyası oluşturuldu.\n",
      "unsounds/human_voice_49.wav dosyası oluşturuldu.\n",
      "unsounds/human_voice_50.wav dosyası oluşturuldu.\n",
      "unsounds/human_voice_51.wav dosyası oluşturuldu.\n",
      "unsounds/human_voice_52.wav dosyası oluşturuldu.\n",
      "unsounds/human_voice_53.wav dosyası oluşturuldu.\n",
      "unsounds/human_voice_54.wav dosyası oluşturuldu.\n",
      "unsounds/human_voice_55.wav dosyası oluşturuldu.\n",
      "unsounds/human_voice_56.wav dosyası oluşturuldu.\n",
      "unsounds/human_voice_57.wav dosyası oluşturuldu.\n",
      "unsounds/human_voice_58.wav dosyası oluşturuldu.\n",
      "unsounds/human_voice_59.wav dosyası oluşturuldu.\n",
      "unsounds/human_voice_60.wav dosyası oluşturuldu.\n",
      "unsounds/human_voice_61.wav dosyası oluşturuldu.\n",
      "unsounds/human_voice_62.wav dosyası oluşturuldu.\n",
      "unsounds/human_voice_63.wav dosyası oluşturuldu.\n",
      "unsounds/human_voice_64.wav dosyası oluşturuldu.\n",
      "unsounds/human_voice_65.wav dosyası oluşturuldu.\n",
      "unsounds/human_voice_66.wav dosyası oluşturuldu.\n",
      "unsounds/human_voice_67.wav dosyası oluşturuldu.\n",
      "unsounds/human_voice_68.wav dosyası oluşturuldu.\n",
      "unsounds/human_voice_69.wav dosyası oluşturuldu.\n",
      "unsounds/human_voice_70.wav dosyası oluşturuldu.\n",
      "unsounds/human_voice_71.wav dosyası oluşturuldu.\n",
      "unsounds/human_voice_72.wav dosyası oluşturuldu.\n",
      "unsounds/human_voice_73.wav dosyası oluşturuldu.\n",
      "unsounds/human_voice_74.wav dosyası oluşturuldu.\n",
      "unsounds/human_voice_75.wav dosyası oluşturuldu.\n",
      "unsounds/human_voice_76.wav dosyası oluşturuldu.\n",
      "unsounds/human_voice_77.wav dosyası oluşturuldu.\n",
      "unsounds/human_voice_78.wav dosyası oluşturuldu.\n",
      "unsounds/human_voice_79.wav dosyası oluşturuldu.\n",
      "unsounds/human_voice_80.wav dosyası oluşturuldu.\n",
      "unsounds/human_voice_81.wav dosyası oluşturuldu.\n",
      "unsounds/human_voice_82.wav dosyası oluşturuldu.\n",
      "unsounds/human_voice_83.wav dosyası oluşturuldu.\n",
      "unsounds/human_voice_84.wav dosyası oluşturuldu.\n",
      "unsounds/human_voice_85.wav dosyası oluşturuldu.\n",
      "unsounds/human_voice_86.wav dosyası oluşturuldu.\n",
      "unsounds/human_voice_87.wav dosyası oluşturuldu.\n",
      "unsounds/human_voice_88.wav dosyası oluşturuldu.\n",
      "unsounds/human_voice_89.wav dosyası oluşturuldu.\n",
      "unsounds/human_voice_90.wav dosyası oluşturuldu.\n",
      "unsounds/human_voice_91.wav dosyası oluşturuldu.\n",
      "unsounds/human_voice_92.wav dosyası oluşturuldu.\n",
      "unsounds/human_voice_93.wav dosyası oluşturuldu.\n",
      "unsounds/human_voice_94.wav dosyası oluşturuldu.\n",
      "unsounds/human_voice_95.wav dosyası oluşturuldu.\n",
      "unsounds/human_voice_96.wav dosyası oluşturuldu.\n",
      "unsounds/human_voice_97.wav dosyası oluşturuldu.\n",
      "unsounds/human_voice_98.wav dosyası oluşturuldu.\n",
      "unsounds/human_voice_99.wav dosyası oluşturuldu.\n",
      "unsounds/human_voice_100.wav dosyası oluşturuldu.\n"
     ]
    }
   ],
   "source": [
    "from scipy.io.wavfile import write\n",
    "def generate_human_like_voice(filename=\"human_voice.wav\", duration=7, sample_rate=16000, frequency=150):\n",
    "    t = np.linspace(0, duration, int(sample_rate * duration), endpoint=False)\n",
    "    \n",
    "    # Temel dalga + Harmonikler\n",
    "    human_voice = 0.5 * np.sin(2 * np.pi * frequency * t)\n",
    "    human_voice += 0.25 * np.sin(2 * np.pi * frequency * 2 * t)\n",
    "    human_voice += 0.1 * np.sin(2 * np.pi * frequency * 3 * t)\n",
    "    \n",
    "    # Frekans modülasyonu (FM)\n",
    "    human_voice = 0.5 * np.sin(2 * np.pi * frequency * t + 0.1 * np.sin(2 * np.pi * 0.1 * t))\n",
    "    \n",
    "    # Amplitüd modülasyonu (AM)\n",
    "    human_voice *= (1 + 0.1 * np.sin(2 * np.pi * 0.05 * t))\n",
    "    \n",
    "    # Ses genliğini normalize etme\n",
    "    human_voice = np.int16(human_voice / np.max(np.abs(human_voice)) * 32767)\n",
    "    \n",
    "    # WAV dosyasına yazma\n",
    "    write(filename, sample_rate, human_voice)\n",
    "    print(f\"{filename} dosyası oluşturuldu.\")\n",
    "\n",
    "for i in range(100):\n",
    "    frequency_variation = 150 + np.random.randint(-50, 50)  # Rastgele frekans değişimi\n",
    "    filename = f\"unsounds/human_voice_{i+1}.wav\"\n",
    "    generate_human_like_voice(filename=filename, frequency=frequency_variation)"
   ]
  },
  {
   "cell_type": "code",
   "execution_count": null,
   "id": "f80a739e8735b122",
   "metadata": {
    "ExecuteTime": {
     "end_time": "2025-04-19T12:11:30.066285Z",
     "start_time": "2025-04-19T12:11:30.051382Z"
    }
   },
   "outputs": [],
   "source": []
  },
  {
   "cell_type": "code",
   "execution_count": null,
   "id": "60df8b2e1245943d",
   "metadata": {},
   "outputs": [],
   "source": []
  },
  {
   "cell_type": "code",
   "execution_count": null,
   "id": "2381ace9b7d20427",
   "metadata": {},
   "outputs": [],
   "source": []
  }
 ],
 "metadata": {
  "kernelspec": {
   "display_name": "Python 3",
   "language": "python",
   "name": "python3"
  },
  "language_info": {
   "codemirror_mode": {
    "name": "ipython",
    "version": 2
   },
   "file_extension": ".py",
   "mimetype": "text/x-python",
   "name": "python",
   "nbconvert_exporter": "python",
   "pygments_lexer": "ipython2",
   "version": "2.7.6"
  }
 },
 "nbformat": 4,
 "nbformat_minor": 5
}
